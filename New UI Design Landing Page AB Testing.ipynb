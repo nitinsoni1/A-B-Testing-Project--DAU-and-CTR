{
 "cells": [
  {
   "cell_type": "markdown",
   "id": "5c44a5c7",
   "metadata": {},
   "source": [
    "# Import Libraries"
   ]
  },
  {
   "cell_type": "code",
   "execution_count": 1,
   "id": "69be7d01",
   "metadata": {
    "ExecuteTime": {
     "end_time": "2022-07-13T07:49:14.783749Z",
     "start_time": "2022-07-13T07:49:09.213545Z"
    }
   },
   "outputs": [],
   "source": [
    "import pandas as pd\n",
    "import matplotlib.pyplot as plt\n",
    "import seaborn as sns\n",
    "import numpy as np\n",
    "from scipy import stats\n",
    "import statsmodels.stats.proportion as sp\n",
    "\n",
    "# Matplolib default parameters\n",
    "from matplotlib import rcParams\n",
    "plt.style.use('default')\n",
    "plt.rcParams['axes.prop_cycle'] = plt.rcParamsDefault['axes.prop_cycle']\n",
    "\n",
    "# import warning\n",
    "import warnings\n",
    "warnings.filterwarnings('ignore')"
   ]
  },
  {
   "cell_type": "markdown",
   "id": "2db130bd",
   "metadata": {},
   "source": [
    "# Dataset Overview"
   ]
  },
  {
   "cell_type": "markdown",
   "id": "8ef17e17",
   "metadata": {},
   "source": [
    "## User Activity Data"
   ]
  },
  {
   "cell_type": "code",
   "execution_count": 116,
   "id": "75270a76",
   "metadata": {
    "ExecuteTime": {
     "end_time": "2022-07-13T09:46:36.589700Z",
     "start_time": "2022-07-13T09:46:32.895733Z"
    }
   },
   "outputs": [
    {
     "data": {
      "text/html": [
       "<div>\n",
       "<style scoped>\n",
       "    .dataframe tbody tr th:only-of-type {\n",
       "        vertical-align: middle;\n",
       "    }\n",
       "\n",
       "    .dataframe tbody tr th {\n",
       "        vertical-align: top;\n",
       "    }\n",
       "\n",
       "    .dataframe thead th {\n",
       "        text-align: right;\n",
       "    }\n",
       "</style>\n",
       "<table border=\"1\" class=\"dataframe\">\n",
       "  <thead>\n",
       "    <tr style=\"text-align: right;\">\n",
       "      <th></th>\n",
       "      <th>userid</th>\n",
       "      <th>dt</th>\n",
       "      <th>groupid</th>\n",
       "      <th>activity_level</th>\n",
       "    </tr>\n",
       "  </thead>\n",
       "  <tbody>\n",
       "    <tr>\n",
       "      <th>0</th>\n",
       "      <td>a5b70ae7-f07c-4773-9df4-ce112bc9dc48</td>\n",
       "      <td>2021-10-01</td>\n",
       "      <td>0</td>\n",
       "      <td>0</td>\n",
       "    </tr>\n",
       "    <tr>\n",
       "      <th>1</th>\n",
       "      <td>d2646662-269f-49de-aab1-8776afced9a3</td>\n",
       "      <td>2021-10-01</td>\n",
       "      <td>0</td>\n",
       "      <td>0</td>\n",
       "    </tr>\n",
       "    <tr>\n",
       "      <th>2</th>\n",
       "      <td>c4d1cfa8-283d-49ad-a894-90aedc39c798</td>\n",
       "      <td>2021-10-01</td>\n",
       "      <td>1</td>\n",
       "      <td>0</td>\n",
       "    </tr>\n",
       "    <tr>\n",
       "      <th>3</th>\n",
       "      <td>6889f87f-5356-4904-a35a-6ea5020011db</td>\n",
       "      <td>2021-10-01</td>\n",
       "      <td>0</td>\n",
       "      <td>0</td>\n",
       "    </tr>\n",
       "    <tr>\n",
       "      <th>4</th>\n",
       "      <td>dbee604c-474a-4c9d-b013-508e5a0e3059</td>\n",
       "      <td>2021-10-01</td>\n",
       "      <td>1</td>\n",
       "      <td>0</td>\n",
       "    </tr>\n",
       "  </tbody>\n",
       "</table>\n",
       "</div>"
      ],
      "text/plain": [
       "                                 userid          dt  groupid  activity_level\n",
       "0  a5b70ae7-f07c-4773-9df4-ce112bc9dc48  2021-10-01        0               0\n",
       "1  d2646662-269f-49de-aab1-8776afced9a3  2021-10-01        0               0\n",
       "2  c4d1cfa8-283d-49ad-a894-90aedc39c798  2021-10-01        1               0\n",
       "3  6889f87f-5356-4904-a35a-6ea5020011db  2021-10-01        0               0\n",
       "4  dbee604c-474a-4c9d-b013-508e5a0e3059  2021-10-01        1               0"
      ]
     },
     "execution_count": 116,
     "metadata": {},
     "output_type": "execute_result"
    }
   ],
   "source": [
    "# user activity dataset\n",
    "df_act = pd.read_csv('activity_all.csv')\n",
    "df_act.head()"
   ]
  },
  {
   "cell_type": "code",
   "execution_count": 3,
   "id": "11705079",
   "metadata": {
    "ExecuteTime": {
     "end_time": "2022-07-13T07:49:23.804859Z",
     "start_time": "2022-07-13T07:49:23.798818Z"
    }
   },
   "outputs": [
    {
     "name": "stdout",
     "output_type": "stream",
     "text": [
      "Activity Dataset have 3660000 Rows and 4 Columns\n"
     ]
    }
   ],
   "source": [
    "print(f'Activity Dataset have {df_act.shape[0]} Rows and {df_act.shape[1]} Columns')"
   ]
  },
  {
   "cell_type": "markdown",
   "id": "c79a2f7a",
   "metadata": {},
   "source": [
    "**Dictionary**\n",
    "- `userid` : User unique identifier\n",
    "- `dt` : datetime (date when user visit our platform)\n",
    "- `groupid` : groupid 0 stand for control group, group id 1 refer to test group\n",
    "- `activity_level` : level of activity (eg: How many times user visit our platform in 1 day). 0 activity level refer to no visit\n"
   ]
  },
  {
   "cell_type": "code",
   "execution_count": 7,
   "id": "6c3b702d",
   "metadata": {
    "ExecuteTime": {
     "end_time": "2022-07-11T16:02:03.973333Z",
     "start_time": "2022-07-11T16:02:03.948437Z"
    }
   },
   "outputs": [
    {
     "name": "stdout",
     "output_type": "stream",
     "text": [
      "<class 'pandas.core.frame.DataFrame'>\n",
      "RangeIndex: 3660000 entries, 0 to 3659999\n",
      "Data columns (total 4 columns):\n",
      " #   Column          Dtype \n",
      "---  ------          ----- \n",
      " 0   userid          object\n",
      " 1   dt              object\n",
      " 2   groupid         int64 \n",
      " 3   activity_level  int64 \n",
      "dtypes: int64(2), object(2)\n",
      "memory usage: 111.7+ MB\n"
     ]
    }
   ],
   "source": [
    "df_act.info()"
   ]
  },
  {
   "cell_type": "markdown",
   "id": "6c603f35",
   "metadata": {},
   "source": [
    "**Convert to `dt` to datetime datatype**"
   ]
  },
  {
   "cell_type": "code",
   "execution_count": 117,
   "id": "6e6a8532",
   "metadata": {
    "ExecuteTime": {
     "end_time": "2022-07-13T09:46:43.705154Z",
     "start_time": "2022-07-13T09:46:42.997306Z"
    }
   },
   "outputs": [],
   "source": [
    "df_act['dt'] = pd.to_datetime(df_act['dt'])"
   ]
  },
  {
   "cell_type": "code",
   "execution_count": 52,
   "id": "3e2a71ee",
   "metadata": {
    "ExecuteTime": {
     "end_time": "2022-07-13T09:07:17.047829Z",
     "start_time": "2022-07-13T09:07:16.356895Z"
    }
   },
   "outputs": [
    {
     "data": {
      "text/html": [
       "<div>\n",
       "<style scoped>\n",
       "    .dataframe tbody tr th:only-of-type {\n",
       "        vertical-align: middle;\n",
       "    }\n",
       "\n",
       "    .dataframe tbody tr th {\n",
       "        vertical-align: top;\n",
       "    }\n",
       "\n",
       "    .dataframe thead th {\n",
       "        text-align: right;\n",
       "    }\n",
       "</style>\n",
       "<table border=\"1\" class=\"dataframe\">\n",
       "  <thead>\n",
       "    <tr style=\"text-align: right;\">\n",
       "      <th></th>\n",
       "      <th>dt</th>\n",
       "      <th>groupid</th>\n",
       "      <th>userid</th>\n",
       "      <th>activity_level</th>\n",
       "    </tr>\n",
       "  </thead>\n",
       "  <tbody>\n",
       "    <tr>\n",
       "      <th>0</th>\n",
       "      <td>2021-10-01</td>\n",
       "      <td>0</td>\n",
       "      <td>15337</td>\n",
       "      <td>15337</td>\n",
       "    </tr>\n",
       "    <tr>\n",
       "      <th>1</th>\n",
       "      <td>2021-10-01</td>\n",
       "      <td>1</td>\n",
       "      <td>15297</td>\n",
       "      <td>15297</td>\n",
       "    </tr>\n",
       "    <tr>\n",
       "      <th>2</th>\n",
       "      <td>2021-10-02</td>\n",
       "      <td>0</td>\n",
       "      <td>15354</td>\n",
       "      <td>15354</td>\n",
       "    </tr>\n",
       "    <tr>\n",
       "      <th>3</th>\n",
       "      <td>2021-10-02</td>\n",
       "      <td>1</td>\n",
       "      <td>15421</td>\n",
       "      <td>15421</td>\n",
       "    </tr>\n",
       "    <tr>\n",
       "      <th>4</th>\n",
       "      <td>2021-10-03</td>\n",
       "      <td>0</td>\n",
       "      <td>15423</td>\n",
       "      <td>15423</td>\n",
       "    </tr>\n",
       "  </tbody>\n",
       "</table>\n",
       "</div>"
      ],
      "text/plain": [
       "          dt  groupid  userid  activity_level\n",
       "0 2021-10-01        0   15337           15337\n",
       "1 2021-10-01        1   15297           15297\n",
       "2 2021-10-02        0   15354           15354\n",
       "3 2021-10-02        1   15421           15421\n",
       "4 2021-10-03        0   15423           15423"
      ]
     },
     "execution_count": 52,
     "metadata": {},
     "output_type": "execute_result"
    }
   ],
   "source": [
    "df_act.query('activity_level > 0').groupby(['dt', 'groupid']).count().reset_index().head()"
   ]
  },
  {
   "cell_type": "code",
   "execution_count": 64,
   "id": "cbbb0a46",
   "metadata": {
    "ExecuteTime": {
     "end_time": "2022-07-13T09:10:33.106882Z",
     "start_time": "2022-07-13T09:10:32.885816Z"
    }
   },
   "outputs": [],
   "source": [
    "df_act['month'] = df_act['dt'].dt.month"
   ]
  },
  {
   "cell_type": "code",
   "execution_count": 65,
   "id": "260debb1",
   "metadata": {
    "ExecuteTime": {
     "end_time": "2022-07-13T09:10:34.876470Z",
     "start_time": "2022-07-13T09:10:34.378345Z"
    }
   },
   "outputs": [],
   "source": [
    "df_act11 = df_act[df_act['month']==11]"
   ]
  },
  {
   "cell_type": "code",
   "execution_count": 28,
   "id": "fa420815",
   "metadata": {
    "ExecuteTime": {
     "end_time": "2022-07-13T08:54:09.884897Z",
     "start_time": "2022-07-13T08:54:09.037453Z"
    }
   },
   "outputs": [
    {
     "data": {
      "text/html": [
       "\n",
       "<div id=\"altair-viz-783a7f6f58b94dae80e181ab0d086141\"></div>\n",
       "<script type=\"text/javascript\">\n",
       "  var VEGA_DEBUG = (typeof VEGA_DEBUG == \"undefined\") ? {} : VEGA_DEBUG;\n",
       "  (function(spec, embedOpt){\n",
       "    let outputDiv = document.currentScript.previousElementSibling;\n",
       "    if (outputDiv.id !== \"altair-viz-783a7f6f58b94dae80e181ab0d086141\") {\n",
       "      outputDiv = document.getElementById(\"altair-viz-783a7f6f58b94dae80e181ab0d086141\");\n",
       "    }\n",
       "    const paths = {\n",
       "      \"vega\": \"https://cdn.jsdelivr.net/npm//vega@5?noext\",\n",
       "      \"vega-lib\": \"https://cdn.jsdelivr.net/npm//vega-lib?noext\",\n",
       "      \"vega-lite\": \"https://cdn.jsdelivr.net/npm//vega-lite@4.17.0?noext\",\n",
       "      \"vega-embed\": \"https://cdn.jsdelivr.net/npm//vega-embed@6?noext\",\n",
       "    };\n",
       "\n",
       "    function maybeLoadScript(lib, version) {\n",
       "      var key = `${lib.replace(\"-\", \"\")}_version`;\n",
       "      return (VEGA_DEBUG[key] == version) ?\n",
       "        Promise.resolve(paths[lib]) :\n",
       "        new Promise(function(resolve, reject) {\n",
       "          var s = document.createElement('script');\n",
       "          document.getElementsByTagName(\"head\")[0].appendChild(s);\n",
       "          s.async = true;\n",
       "          s.onload = () => {\n",
       "            VEGA_DEBUG[key] = version;\n",
       "            return resolve(paths[lib]);\n",
       "          };\n",
       "          s.onerror = () => reject(`Error loading script: ${paths[lib]}`);\n",
       "          s.src = paths[lib];\n",
       "        });\n",
       "    }\n",
       "\n",
       "    function showError(err) {\n",
       "      outputDiv.innerHTML = `<div class=\"error\" style=\"color:red;\">${err}</div>`;\n",
       "      throw err;\n",
       "    }\n",
       "\n",
       "    function displayChart(vegaEmbed) {\n",
       "      vegaEmbed(outputDiv, spec, embedOpt)\n",
       "        .catch(err => showError(`Javascript Error: ${err.message}<br>This usually means there's a typo in your chart specification. See the javascript console for the full traceback.`));\n",
       "    }\n",
       "\n",
       "    if(typeof define === \"function\" && define.amd) {\n",
       "      requirejs.config({paths});\n",
       "      require([\"vega-embed\"], displayChart, err => showError(`Error loading script: ${err.message}`));\n",
       "    } else {\n",
       "      maybeLoadScript(\"vega\", \"5\")\n",
       "        .then(() => maybeLoadScript(\"vega-lite\", \"4.17.0\"))\n",
       "        .then(() => maybeLoadScript(\"vega-embed\", \"6\"))\n",
       "        .catch(showError)\n",
       "        .then(() => displayChart(vegaEmbed));\n",
       "    }\n",
       "  })({\"config\": {\"view\": {\"continuousWidth\": 400, \"continuousHeight\": 300}}, \"data\": {\"name\": \"data-f413e228b4afd07213e2500fd8f49417\"}, \"mark\": {\"type\": \"line\", \"size\": 3}, \"encoding\": {\"color\": {\"field\": \"groupid\", \"type\": \"ordinal\"}, \"tooltip\": [{\"field\": \"userid\", \"type\": \"quantitative\"}], \"x\": {\"field\": \"dt\", \"type\": \"temporal\"}, \"y\": {\"field\": \"userid\", \"type\": \"quantitative\"}}, \"height\": 400, \"width\": 600, \"$schema\": \"https://vega.github.io/schema/vega-lite/v4.17.0.json\", \"datasets\": {\"data-f413e228b4afd07213e2500fd8f49417\": [{\"dt\": \"2021-10-01T00:00:00\", \"groupid\": 0, \"userid\": 15337, \"activity_level\": 15337}, {\"dt\": \"2021-10-01T00:00:00\", \"groupid\": 1, \"userid\": 15297, \"activity_level\": 15297}, {\"dt\": \"2021-10-02T00:00:00\", \"groupid\": 0, \"userid\": 15354, \"activity_level\": 15354}, {\"dt\": \"2021-10-02T00:00:00\", \"groupid\": 1, \"userid\": 15421, \"activity_level\": 15421}, {\"dt\": \"2021-10-03T00:00:00\", \"groupid\": 0, \"userid\": 15423, \"activity_level\": 15423}, {\"dt\": \"2021-10-03T00:00:00\", \"groupid\": 1, \"userid\": 15362, \"activity_level\": 15362}, {\"dt\": \"2021-10-04T00:00:00\", \"groupid\": 0, \"userid\": 15211, \"activity_level\": 15211}, {\"dt\": \"2021-10-04T00:00:00\", \"groupid\": 1, \"userid\": 15388, \"activity_level\": 15388}, {\"dt\": \"2021-10-05T00:00:00\", \"groupid\": 0, \"userid\": 15126, \"activity_level\": 15126}, {\"dt\": \"2021-10-05T00:00:00\", \"groupid\": 1, \"userid\": 15462, \"activity_level\": 15462}, {\"dt\": \"2021-10-06T00:00:00\", \"groupid\": 0, \"userid\": 15335, \"activity_level\": 15335}, {\"dt\": \"2021-10-06T00:00:00\", \"groupid\": 1, \"userid\": 15304, \"activity_level\": 15304}, {\"dt\": \"2021-10-07T00:00:00\", \"groupid\": 0, \"userid\": 15346, \"activity_level\": 15346}, {\"dt\": \"2021-10-07T00:00:00\", \"groupid\": 1, \"userid\": 15291, \"activity_level\": 15291}, {\"dt\": \"2021-10-08T00:00:00\", \"groupid\": 0, \"userid\": 15357, \"activity_level\": 15357}, {\"dt\": \"2021-10-08T00:00:00\", \"groupid\": 1, \"userid\": 15243, \"activity_level\": 15243}, {\"dt\": \"2021-10-09T00:00:00\", \"groupid\": 0, \"userid\": 15371, \"activity_level\": 15371}, {\"dt\": \"2021-10-09T00:00:00\", \"groupid\": 1, \"userid\": 15531, \"activity_level\": 15531}, {\"dt\": \"2021-10-10T00:00:00\", \"groupid\": 0, \"userid\": 15277, \"activity_level\": 15277}, {\"dt\": \"2021-10-10T00:00:00\", \"groupid\": 1, \"userid\": 15304, \"activity_level\": 15304}, {\"dt\": \"2021-10-11T00:00:00\", \"groupid\": 0, \"userid\": 15226, \"activity_level\": 15226}, {\"dt\": \"2021-10-11T00:00:00\", \"groupid\": 1, \"userid\": 15263, \"activity_level\": 15263}, {\"dt\": \"2021-10-12T00:00:00\", \"groupid\": 0, \"userid\": 15290, \"activity_level\": 15290}, {\"dt\": \"2021-10-12T00:00:00\", \"groupid\": 1, \"userid\": 15425, \"activity_level\": 15425}, {\"dt\": \"2021-10-13T00:00:00\", \"groupid\": 0, \"userid\": 15334, \"activity_level\": 15334}, {\"dt\": \"2021-10-13T00:00:00\", \"groupid\": 1, \"userid\": 15427, \"activity_level\": 15427}, {\"dt\": \"2021-10-14T00:00:00\", \"groupid\": 0, \"userid\": 15295, \"activity_level\": 15295}, {\"dt\": \"2021-10-14T00:00:00\", \"groupid\": 1, \"userid\": 15421, \"activity_level\": 15421}, {\"dt\": \"2021-10-15T00:00:00\", \"groupid\": 0, \"userid\": 15277, \"activity_level\": 15277}, {\"dt\": \"2021-10-15T00:00:00\", \"groupid\": 1, \"userid\": 15360, \"activity_level\": 15360}, {\"dt\": \"2021-10-16T00:00:00\", \"groupid\": 0, \"userid\": 15348, \"activity_level\": 15348}, {\"dt\": \"2021-10-16T00:00:00\", \"groupid\": 1, \"userid\": 15360, \"activity_level\": 15360}, {\"dt\": \"2021-10-17T00:00:00\", \"groupid\": 0, \"userid\": 15430, \"activity_level\": 15430}, {\"dt\": \"2021-10-17T00:00:00\", \"groupid\": 1, \"userid\": 15311, \"activity_level\": 15311}, {\"dt\": \"2021-10-18T00:00:00\", \"groupid\": 0, \"userid\": 15244, \"activity_level\": 15244}, {\"dt\": \"2021-10-18T00:00:00\", \"groupid\": 1, \"userid\": 15450, \"activity_level\": 15450}, {\"dt\": \"2021-10-19T00:00:00\", \"groupid\": 0, \"userid\": 15303, \"activity_level\": 15303}, {\"dt\": \"2021-10-19T00:00:00\", \"groupid\": 1, \"userid\": 15284, \"activity_level\": 15284}, {\"dt\": \"2021-10-20T00:00:00\", \"groupid\": 0, \"userid\": 15382, \"activity_level\": 15382}, {\"dt\": \"2021-10-20T00:00:00\", \"groupid\": 1, \"userid\": 15413, \"activity_level\": 15413}, {\"dt\": \"2021-10-21T00:00:00\", \"groupid\": 0, \"userid\": 15431, \"activity_level\": 15431}, {\"dt\": \"2021-10-21T00:00:00\", \"groupid\": 1, \"userid\": 15274, \"activity_level\": 15274}, {\"dt\": \"2021-10-22T00:00:00\", \"groupid\": 0, \"userid\": 15356, \"activity_level\": 15356}, {\"dt\": \"2021-10-22T00:00:00\", \"groupid\": 1, \"userid\": 15217, \"activity_level\": 15217}, {\"dt\": \"2021-10-23T00:00:00\", \"groupid\": 0, \"userid\": 15151, \"activity_level\": 15151}, {\"dt\": \"2021-10-23T00:00:00\", \"groupid\": 1, \"userid\": 15494, \"activity_level\": 15494}, {\"dt\": \"2021-10-24T00:00:00\", \"groupid\": 0, \"userid\": 15512, \"activity_level\": 15512}, {\"dt\": \"2021-10-24T00:00:00\", \"groupid\": 1, \"userid\": 15303, \"activity_level\": 15303}, {\"dt\": \"2021-10-25T00:00:00\", \"groupid\": 0, \"userid\": 15351, \"activity_level\": 15351}, {\"dt\": \"2021-10-25T00:00:00\", \"groupid\": 1, \"userid\": 15265, \"activity_level\": 15265}, {\"dt\": \"2021-10-26T00:00:00\", \"groupid\": 0, \"userid\": 15280, \"activity_level\": 15280}, {\"dt\": \"2021-10-26T00:00:00\", \"groupid\": 1, \"userid\": 15393, \"activity_level\": 15393}, {\"dt\": \"2021-10-27T00:00:00\", \"groupid\": 0, \"userid\": 15459, \"activity_level\": 15459}, {\"dt\": \"2021-10-27T00:00:00\", \"groupid\": 1, \"userid\": 15202, \"activity_level\": 15202}, {\"dt\": \"2021-10-28T00:00:00\", \"groupid\": 0, \"userid\": 15434, \"activity_level\": 15434}, {\"dt\": \"2021-10-28T00:00:00\", \"groupid\": 1, \"userid\": 15300, \"activity_level\": 15300}, {\"dt\": \"2021-10-29T00:00:00\", \"groupid\": 0, \"userid\": 15214, \"activity_level\": 15214}, {\"dt\": \"2021-10-29T00:00:00\", \"groupid\": 1, \"userid\": 15509, \"activity_level\": 15509}, {\"dt\": \"2021-10-30T00:00:00\", \"groupid\": 0, \"userid\": 15285, \"activity_level\": 15285}, {\"dt\": \"2021-10-30T00:00:00\", \"groupid\": 1, \"userid\": 15343, \"activity_level\": 15343}, {\"dt\": \"2021-10-31T00:00:00\", \"groupid\": 0, \"userid\": 15208, \"activity_level\": 15208}, {\"dt\": \"2021-10-31T00:00:00\", \"groupid\": 1, \"userid\": 15311, \"activity_level\": 15311}, {\"dt\": \"2021-11-01T00:00:00\", \"groupid\": 0, \"userid\": 15989, \"activity_level\": 15989}, {\"dt\": \"2021-11-01T00:00:00\", \"groupid\": 1, \"userid\": 29318, \"activity_level\": 29318}, {\"dt\": \"2021-11-02T00:00:00\", \"groupid\": 0, \"userid\": 16024, \"activity_level\": 16024}, {\"dt\": \"2021-11-02T00:00:00\", \"groupid\": 1, \"userid\": 29289, \"activity_level\": 29289}, {\"dt\": \"2021-11-03T00:00:00\", \"groupid\": 0, \"userid\": 16049, \"activity_level\": 16049}, {\"dt\": \"2021-11-03T00:00:00\", \"groupid\": 1, \"userid\": 29306, \"activity_level\": 29306}, {\"dt\": \"2021-11-04T00:00:00\", \"groupid\": 0, \"userid\": 16040, \"activity_level\": 16040}, {\"dt\": \"2021-11-04T00:00:00\", \"groupid\": 1, \"userid\": 29267, \"activity_level\": 29267}, {\"dt\": \"2021-11-05T00:00:00\", \"groupid\": 0, \"userid\": 16045, \"activity_level\": 16045}, {\"dt\": \"2021-11-05T00:00:00\", \"groupid\": 1, \"userid\": 29336, \"activity_level\": 29336}, {\"dt\": \"2021-11-06T00:00:00\", \"groupid\": 0, \"userid\": 15991, \"activity_level\": 15991}, {\"dt\": \"2021-11-06T00:00:00\", \"groupid\": 1, \"userid\": 29306, \"activity_level\": 29306}, {\"dt\": \"2021-11-07T00:00:00\", \"groupid\": 0, \"userid\": 16133, \"activity_level\": 16133}, {\"dt\": \"2021-11-07T00:00:00\", \"groupid\": 1, \"userid\": 29255, \"activity_level\": 29255}, {\"dt\": \"2021-11-08T00:00:00\", \"groupid\": 0, \"userid\": 16119, \"activity_level\": 16119}, {\"dt\": \"2021-11-08T00:00:00\", \"groupid\": 1, \"userid\": 29263, \"activity_level\": 29263}, {\"dt\": \"2021-11-09T00:00:00\", \"groupid\": 0, \"userid\": 15953, \"activity_level\": 15953}, {\"dt\": \"2021-11-09T00:00:00\", \"groupid\": 1, \"userid\": 29286, \"activity_level\": 29286}, {\"dt\": \"2021-11-10T00:00:00\", \"groupid\": 0, \"userid\": 15990, \"activity_level\": 15990}, {\"dt\": \"2021-11-10T00:00:00\", \"groupid\": 1, \"userid\": 29340, \"activity_level\": 29340}, {\"dt\": \"2021-11-11T00:00:00\", \"groupid\": 0, \"userid\": 16045, \"activity_level\": 16045}, {\"dt\": \"2021-11-11T00:00:00\", \"groupid\": 1, \"userid\": 29349, \"activity_level\": 29349}, {\"dt\": \"2021-11-12T00:00:00\", \"groupid\": 0, \"userid\": 15859, \"activity_level\": 15859}, {\"dt\": \"2021-11-12T00:00:00\", \"groupid\": 1, \"userid\": 29278, \"activity_level\": 29278}, {\"dt\": \"2021-11-13T00:00:00\", \"groupid\": 0, \"userid\": 15973, \"activity_level\": 15973}, {\"dt\": \"2021-11-13T00:00:00\", \"groupid\": 1, \"userid\": 29258, \"activity_level\": 29258}, {\"dt\": \"2021-11-14T00:00:00\", \"groupid\": 0, \"userid\": 16016, \"activity_level\": 16016}, {\"dt\": \"2021-11-14T00:00:00\", \"groupid\": 1, \"userid\": 29322, \"activity_level\": 29322}, {\"dt\": \"2021-11-15T00:00:00\", \"groupid\": 0, \"userid\": 16112, \"activity_level\": 16112}, {\"dt\": \"2021-11-15T00:00:00\", \"groupid\": 1, \"userid\": 29337, \"activity_level\": 29337}, {\"dt\": \"2021-11-16T00:00:00\", \"groupid\": 0, \"userid\": 16147, \"activity_level\": 16147}, {\"dt\": \"2021-11-16T00:00:00\", \"groupid\": 1, \"userid\": 29300, \"activity_level\": 29300}, {\"dt\": \"2021-11-17T00:00:00\", \"groupid\": 0, \"userid\": 16015, \"activity_level\": 16015}, {\"dt\": \"2021-11-17T00:00:00\", \"groupid\": 1, \"userid\": 29296, \"activity_level\": 29296}, {\"dt\": \"2021-11-18T00:00:00\", \"groupid\": 0, \"userid\": 16007, \"activity_level\": 16007}, {\"dt\": \"2021-11-18T00:00:00\", \"groupid\": 1, \"userid\": 29274, \"activity_level\": 29274}, {\"dt\": \"2021-11-19T00:00:00\", \"groupid\": 0, \"userid\": 16104, \"activity_level\": 16104}, {\"dt\": \"2021-11-19T00:00:00\", \"groupid\": 1, \"userid\": 29292, \"activity_level\": 29292}, {\"dt\": \"2021-11-20T00:00:00\", \"groupid\": 0, \"userid\": 16090, \"activity_level\": 16090}, {\"dt\": \"2021-11-20T00:00:00\", \"groupid\": 1, \"userid\": 29329, \"activity_level\": 29329}, {\"dt\": \"2021-11-21T00:00:00\", \"groupid\": 0, \"userid\": 15294, \"activity_level\": 15294}, {\"dt\": \"2021-11-21T00:00:00\", \"groupid\": 1, \"userid\": 29309, \"activity_level\": 29309}, {\"dt\": \"2021-11-22T00:00:00\", \"groupid\": 0, \"userid\": 15207, \"activity_level\": 15207}, {\"dt\": \"2021-11-22T00:00:00\", \"groupid\": 1, \"userid\": 29278, \"activity_level\": 29278}, {\"dt\": \"2021-11-23T00:00:00\", \"groupid\": 0, \"userid\": 15424, \"activity_level\": 15424}, {\"dt\": \"2021-11-23T00:00:00\", \"groupid\": 1, \"userid\": 29300, \"activity_level\": 29300}, {\"dt\": \"2021-11-24T00:00:00\", \"groupid\": 0, \"userid\": 15328, \"activity_level\": 15328}, {\"dt\": \"2021-11-24T00:00:00\", \"groupid\": 1, \"userid\": 29287, \"activity_level\": 29287}, {\"dt\": \"2021-11-25T00:00:00\", \"groupid\": 0, \"userid\": 15163, \"activity_level\": 15163}, {\"dt\": \"2021-11-25T00:00:00\", \"groupid\": 1, \"userid\": 29301, \"activity_level\": 29301}, {\"dt\": \"2021-11-26T00:00:00\", \"groupid\": 0, \"userid\": 15226, \"activity_level\": 15226}, {\"dt\": \"2021-11-26T00:00:00\", \"groupid\": 1, \"userid\": 29303, \"activity_level\": 29303}, {\"dt\": \"2021-11-27T00:00:00\", \"groupid\": 0, \"userid\": 15286, \"activity_level\": 15286}, {\"dt\": \"2021-11-27T00:00:00\", \"groupid\": 1, \"userid\": 29350, \"activity_level\": 29350}, {\"dt\": \"2021-11-28T00:00:00\", \"groupid\": 0, \"userid\": 15283, \"activity_level\": 15283}, {\"dt\": \"2021-11-28T00:00:00\", \"groupid\": 1, \"userid\": 29273, \"activity_level\": 29273}, {\"dt\": \"2021-11-29T00:00:00\", \"groupid\": 0, \"userid\": 15356, \"activity_level\": 15356}, {\"dt\": \"2021-11-29T00:00:00\", \"groupid\": 1, \"userid\": 29289, \"activity_level\": 29289}, {\"dt\": \"2021-11-30T00:00:00\", \"groupid\": 0, \"userid\": 15192, \"activity_level\": 15192}, {\"dt\": \"2021-11-30T00:00:00\", \"groupid\": 1, \"userid\": 29382, \"activity_level\": 29382}]}}, {\"mode\": \"vega-lite\"});\n",
       "</script>"
      ],
      "text/plain": [
       "alt.Chart(...)"
      ]
     },
     "execution_count": 28,
     "metadata": {},
     "output_type": "execute_result"
    }
   ],
   "source": [
    "import altair as alt\n",
    "\n",
    "alt.Chart(df_act.query('activity_level > 0').groupby(['dt', 'groupid']).count().reset_index()).mark_line(size=3).encode(\n",
    "    alt.X('dt'),\n",
    "    alt.Y('userid'),\n",
    "    color='groupid:O',\n",
    "    tooltip=['userid']\n",
    ").properties(\n",
    "    width=600,\n",
    "    height=400\n",
    ")"
   ]
  },
  {
   "cell_type": "code",
   "execution_count": 67,
   "id": "f6daee8a",
   "metadata": {
    "ExecuteTime": {
     "end_time": "2022-07-13T09:11:10.872889Z",
     "start_time": "2022-07-13T09:11:10.603620Z"
    }
   },
   "outputs": [
    {
     "name": "stdout",
     "output_type": "stream",
     "text": [
      "Experimental Design Date Started :  2021-11-01 00:00:00\n",
      "Experimental Design Date Finished :  2021-11-30 00:00:00\n",
      "The Number of Days Experimental Design Running :  30\n"
     ]
    }
   ],
   "source": [
    "print('Experimental Design Date Started : ', df_act11['dt'].min())\n",
    "print('Experimental Design Date Finished : ', df_act['dt'].max())\n",
    "print('The Number of Days Experimental Design Running : ', df_ctr['dt'].dt.day.max()-df_act11['dt'].dt.day.min())"
   ]
  },
  {
   "cell_type": "code",
   "execution_count": 93,
   "id": "62fb0847",
   "metadata": {
    "ExecuteTime": {
     "end_time": "2022-07-13T09:27:00.762270Z",
     "start_time": "2022-07-13T09:26:59.005419Z"
    }
   },
   "outputs": [
    {
     "data": {
      "text/html": [
       "<div>\n",
       "<style scoped>\n",
       "    .dataframe tbody tr th:only-of-type {\n",
       "        vertical-align: middle;\n",
       "    }\n",
       "\n",
       "    .dataframe tbody tr th {\n",
       "        vertical-align: top;\n",
       "    }\n",
       "\n",
       "    .dataframe thead tr th {\n",
       "        text-align: left;\n",
       "    }\n",
       "\n",
       "    .dataframe thead tr:last-of-type th {\n",
       "        text-align: right;\n",
       "    }\n",
       "</style>\n",
       "<table border=\"1\" class=\"dataframe\">\n",
       "  <thead>\n",
       "    <tr>\n",
       "      <th></th>\n",
       "      <th></th>\n",
       "      <th colspan=\"8\" halign=\"left\">activity_level</th>\n",
       "    </tr>\n",
       "    <tr>\n",
       "      <th></th>\n",
       "      <th></th>\n",
       "      <th>count</th>\n",
       "      <th>mean</th>\n",
       "      <th>std</th>\n",
       "      <th>min</th>\n",
       "      <th>25%</th>\n",
       "      <th>50%</th>\n",
       "      <th>75%</th>\n",
       "      <th>max</th>\n",
       "    </tr>\n",
       "    <tr>\n",
       "      <th>groupid</th>\n",
       "      <th>dt</th>\n",
       "      <th></th>\n",
       "      <th></th>\n",
       "      <th></th>\n",
       "      <th></th>\n",
       "      <th></th>\n",
       "      <th></th>\n",
       "      <th></th>\n",
       "      <th></th>\n",
       "    </tr>\n",
       "  </thead>\n",
       "  <tbody>\n",
       "    <tr>\n",
       "      <th rowspan=\"5\" valign=\"top\">0</th>\n",
       "      <th>2021-10-01</th>\n",
       "      <td>29951.0</td>\n",
       "      <td>5.241762</td>\n",
       "      <td>6.516640</td>\n",
       "      <td>0.0</td>\n",
       "      <td>0.0</td>\n",
       "      <td>1.0</td>\n",
       "      <td>10.0</td>\n",
       "      <td>20.0</td>\n",
       "    </tr>\n",
       "    <tr>\n",
       "      <th>2021-10-02</th>\n",
       "      <td>29951.0</td>\n",
       "      <td>5.255885</td>\n",
       "      <td>6.509838</td>\n",
       "      <td>0.0</td>\n",
       "      <td>0.0</td>\n",
       "      <td>1.0</td>\n",
       "      <td>10.0</td>\n",
       "      <td>20.0</td>\n",
       "    </tr>\n",
       "    <tr>\n",
       "      <th>2021-10-03</th>\n",
       "      <td>29951.0</td>\n",
       "      <td>5.266068</td>\n",
       "      <td>6.511458</td>\n",
       "      <td>0.0</td>\n",
       "      <td>0.0</td>\n",
       "      <td>1.0</td>\n",
       "      <td>10.0</td>\n",
       "      <td>20.0</td>\n",
       "    </tr>\n",
       "    <tr>\n",
       "      <th>2021-10-04</th>\n",
       "      <td>29951.0</td>\n",
       "      <td>5.212447</td>\n",
       "      <td>6.511711</td>\n",
       "      <td>0.0</td>\n",
       "      <td>0.0</td>\n",
       "      <td>1.0</td>\n",
       "      <td>10.0</td>\n",
       "      <td>20.0</td>\n",
       "    </tr>\n",
       "    <tr>\n",
       "      <th>2021-10-05</th>\n",
       "      <td>29951.0</td>\n",
       "      <td>5.177590</td>\n",
       "      <td>6.512791</td>\n",
       "      <td>0.0</td>\n",
       "      <td>0.0</td>\n",
       "      <td>1.0</td>\n",
       "      <td>10.0</td>\n",
       "      <td>20.0</td>\n",
       "    </tr>\n",
       "    <tr>\n",
       "      <th>...</th>\n",
       "      <th>...</th>\n",
       "      <td>...</td>\n",
       "      <td>...</td>\n",
       "      <td>...</td>\n",
       "      <td>...</td>\n",
       "      <td>...</td>\n",
       "      <td>...</td>\n",
       "      <td>...</td>\n",
       "      <td>...</td>\n",
       "    </tr>\n",
       "    <tr>\n",
       "      <th rowspan=\"5\" valign=\"top\">1</th>\n",
       "      <th>2021-11-26</th>\n",
       "      <td>30049.0</td>\n",
       "      <td>10.031216</td>\n",
       "      <td>5.770582</td>\n",
       "      <td>0.0</td>\n",
       "      <td>5.0</td>\n",
       "      <td>10.0</td>\n",
       "      <td>15.0</td>\n",
       "      <td>20.0</td>\n",
       "    </tr>\n",
       "    <tr>\n",
       "      <th>2021-11-27</th>\n",
       "      <td>30049.0</td>\n",
       "      <td>10.026024</td>\n",
       "      <td>5.774141</td>\n",
       "      <td>0.0</td>\n",
       "      <td>5.0</td>\n",
       "      <td>10.0</td>\n",
       "      <td>15.0</td>\n",
       "      <td>20.0</td>\n",
       "    </tr>\n",
       "    <tr>\n",
       "      <th>2021-11-28</th>\n",
       "      <td>30049.0</td>\n",
       "      <td>9.975307</td>\n",
       "      <td>5.788257</td>\n",
       "      <td>0.0</td>\n",
       "      <td>5.0</td>\n",
       "      <td>10.0</td>\n",
       "      <td>15.0</td>\n",
       "      <td>20.0</td>\n",
       "    </tr>\n",
       "    <tr>\n",
       "      <th>2021-11-29</th>\n",
       "      <td>30049.0</td>\n",
       "      <td>9.970781</td>\n",
       "      <td>5.799546</td>\n",
       "      <td>0.0</td>\n",
       "      <td>5.0</td>\n",
       "      <td>10.0</td>\n",
       "      <td>15.0</td>\n",
       "      <td>20.0</td>\n",
       "    </tr>\n",
       "    <tr>\n",
       "      <th>2021-11-30</th>\n",
       "      <td>30049.0</td>\n",
       "      <td>9.963926</td>\n",
       "      <td>5.764812</td>\n",
       "      <td>0.0</td>\n",
       "      <td>5.0</td>\n",
       "      <td>10.0</td>\n",
       "      <td>15.0</td>\n",
       "      <td>20.0</td>\n",
       "    </tr>\n",
       "  </tbody>\n",
       "</table>\n",
       "<p>122 rows × 8 columns</p>\n",
       "</div>"
      ],
      "text/plain": [
       "                   activity_level                                             \\\n",
       "                            count       mean       std  min  25%   50%   75%   \n",
       "groupid dt                                                                     \n",
       "0       2021-10-01        29951.0   5.241762  6.516640  0.0  0.0   1.0  10.0   \n",
       "        2021-10-02        29951.0   5.255885  6.509838  0.0  0.0   1.0  10.0   \n",
       "        2021-10-03        29951.0   5.266068  6.511458  0.0  0.0   1.0  10.0   \n",
       "        2021-10-04        29951.0   5.212447  6.511711  0.0  0.0   1.0  10.0   \n",
       "        2021-10-05        29951.0   5.177590  6.512791  0.0  0.0   1.0  10.0   \n",
       "...                           ...        ...       ...  ...  ...   ...   ...   \n",
       "1       2021-11-26        30049.0  10.031216  5.770582  0.0  5.0  10.0  15.0   \n",
       "        2021-11-27        30049.0  10.026024  5.774141  0.0  5.0  10.0  15.0   \n",
       "        2021-11-28        30049.0   9.975307  5.788257  0.0  5.0  10.0  15.0   \n",
       "        2021-11-29        30049.0   9.970781  5.799546  0.0  5.0  10.0  15.0   \n",
       "        2021-11-30        30049.0   9.963926  5.764812  0.0  5.0  10.0  15.0   \n",
       "\n",
       "                          \n",
       "                     max  \n",
       "groupid dt                \n",
       "0       2021-10-01  20.0  \n",
       "        2021-10-02  20.0  \n",
       "        2021-10-03  20.0  \n",
       "        2021-10-04  20.0  \n",
       "        2021-10-05  20.0  \n",
       "...                  ...  \n",
       "1       2021-11-26  20.0  \n",
       "        2021-11-27  20.0  \n",
       "        2021-11-28  20.0  \n",
       "        2021-11-29  20.0  \n",
       "        2021-11-30  20.0  \n",
       "\n",
       "[122 rows x 8 columns]"
      ]
     },
     "execution_count": 93,
     "metadata": {},
     "output_type": "execute_result"
    }
   ],
   "source": [
    "df_act.iloc[:,:-1].groupby(['groupid', 'dt']).describe()"
   ]
  },
  {
   "cell_type": "markdown",
   "id": "7678c6f9",
   "metadata": {},
   "source": [
    "Look at the median, group 0 and group 1 show different activity level significantly (by business perspective)"
   ]
  },
  {
   "cell_type": "markdown",
   "id": "124255d9",
   "metadata": {},
   "source": [
    "## CTR Data"
   ]
  },
  {
   "cell_type": "code",
   "execution_count": 6,
   "id": "c5bbaf7d",
   "metadata": {
    "ExecuteTime": {
     "end_time": "2022-07-13T07:49:35.817076Z",
     "start_time": "2022-07-13T07:49:33.510311Z"
    }
   },
   "outputs": [
    {
     "data": {
      "text/html": [
       "<div>\n",
       "<style scoped>\n",
       "    .dataframe tbody tr th:only-of-type {\n",
       "        vertical-align: middle;\n",
       "    }\n",
       "\n",
       "    .dataframe tbody tr th {\n",
       "        vertical-align: top;\n",
       "    }\n",
       "\n",
       "    .dataframe thead th {\n",
       "        text-align: right;\n",
       "    }\n",
       "</style>\n",
       "<table border=\"1\" class=\"dataframe\">\n",
       "  <thead>\n",
       "    <tr style=\"text-align: right;\">\n",
       "      <th></th>\n",
       "      <th>userid</th>\n",
       "      <th>dt</th>\n",
       "      <th>groupid</th>\n",
       "      <th>ctr</th>\n",
       "    </tr>\n",
       "  </thead>\n",
       "  <tbody>\n",
       "    <tr>\n",
       "      <th>0</th>\n",
       "      <td>60389fa7-2d71-4cdf-831c-c2bb277ffa1e</td>\n",
       "      <td>2021-11-13</td>\n",
       "      <td>0</td>\n",
       "      <td>31.81</td>\n",
       "    </tr>\n",
       "    <tr>\n",
       "      <th>1</th>\n",
       "      <td>b59cb225-d160-4851-92d2-7cc8120a2f63</td>\n",
       "      <td>2021-11-13</td>\n",
       "      <td>0</td>\n",
       "      <td>30.46</td>\n",
       "    </tr>\n",
       "    <tr>\n",
       "      <th>2</th>\n",
       "      <td>aa336050-934e-453f-a5b0-dd881fcd114e</td>\n",
       "      <td>2021-11-13</td>\n",
       "      <td>0</td>\n",
       "      <td>34.25</td>\n",
       "    </tr>\n",
       "    <tr>\n",
       "      <th>3</th>\n",
       "      <td>8df767f4-a10f-4322-a722-676b7e02b372</td>\n",
       "      <td>2021-11-13</td>\n",
       "      <td>0</td>\n",
       "      <td>34.92</td>\n",
       "    </tr>\n",
       "    <tr>\n",
       "      <th>4</th>\n",
       "      <td>a74762ed-4da0-42ab-91d2-40d7e808dfe9</td>\n",
       "      <td>2021-11-13</td>\n",
       "      <td>0</td>\n",
       "      <td>34.95</td>\n",
       "    </tr>\n",
       "  </tbody>\n",
       "</table>\n",
       "</div>"
      ],
      "text/plain": [
       "                                 userid          dt  groupid    ctr\n",
       "0  60389fa7-2d71-4cdf-831c-c2bb277ffa1e  2021-11-13        0  31.81\n",
       "1  b59cb225-d160-4851-92d2-7cc8120a2f63  2021-11-13        0  30.46\n",
       "2  aa336050-934e-453f-a5b0-dd881fcd114e  2021-11-13        0  34.25\n",
       "3  8df767f4-a10f-4322-a722-676b7e02b372  2021-11-13        0  34.92\n",
       "4  a74762ed-4da0-42ab-91d2-40d7e808dfe9  2021-11-13        0  34.95"
      ]
     },
     "execution_count": 6,
     "metadata": {},
     "output_type": "execute_result"
    }
   ],
   "source": [
    "df_ctr = pd.read_csv('ctr_all.csv')\n",
    "df_ctr.head()"
   ]
  },
  {
   "cell_type": "code",
   "execution_count": 7,
   "id": "97699e6b",
   "metadata": {
    "ExecuteTime": {
     "end_time": "2022-07-13T07:49:35.911366Z",
     "start_time": "2022-07-13T07:49:35.899939Z"
    }
   },
   "outputs": [
    {
     "name": "stdout",
     "output_type": "stream",
     "text": [
      "CTR Dataset have 2303408 Rows and 4 Columns\n"
     ]
    }
   ],
   "source": [
    "print(f'CTR Dataset have {df_ctr.shape[0]} Rows and {df_ctr.shape[1]} Columns')"
   ]
  },
  {
   "cell_type": "markdown",
   "id": "d2371d5a",
   "metadata": {},
   "source": [
    "**Dictionary**\n",
    "- `userid` : User unique identifier\n",
    "- `dt` : datetime (date when user visit our platform)\n",
    "- `groupid` : groupid 0 stand for control group, group id 1 refer to test group\n",
    "- `ctr` : click through rate\n"
   ]
  },
  {
   "cell_type": "code",
   "execution_count": 14,
   "id": "8c6f9fef",
   "metadata": {
    "ExecuteTime": {
     "end_time": "2022-07-11T17:07:43.402823Z",
     "start_time": "2022-07-11T17:07:43.352782Z"
    }
   },
   "outputs": [
    {
     "name": "stdout",
     "output_type": "stream",
     "text": [
      "<class 'pandas.core.frame.DataFrame'>\n",
      "RangeIndex: 2303408 entries, 0 to 2303407\n",
      "Data columns (total 4 columns):\n",
      " #   Column   Dtype  \n",
      "---  ------   -----  \n",
      " 0   userid   object \n",
      " 1   dt       object \n",
      " 2   groupid  int64  \n",
      " 3   ctr      float64\n",
      "dtypes: float64(1), int64(1), object(2)\n",
      "memory usage: 70.3+ MB\n"
     ]
    }
   ],
   "source": [
    "df_ctr.info()"
   ]
  },
  {
   "cell_type": "markdown",
   "id": "0e973c59",
   "metadata": {},
   "source": [
    "**Convert to `dt` to datetime datatype**"
   ]
  },
  {
   "cell_type": "code",
   "execution_count": 68,
   "id": "c03a50b1",
   "metadata": {
    "ExecuteTime": {
     "end_time": "2022-07-13T09:11:29.074324Z",
     "start_time": "2022-07-13T09:11:28.961075Z"
    }
   },
   "outputs": [],
   "source": [
    "df_ctr['dt'] = pd.to_datetime(df_ctr['dt'])"
   ]
  },
  {
   "cell_type": "code",
   "execution_count": 70,
   "id": "aad8552d",
   "metadata": {
    "ExecuteTime": {
     "end_time": "2022-07-13T09:11:56.967375Z",
     "start_time": "2022-07-13T09:11:56.436299Z"
    }
   },
   "outputs": [],
   "source": [
    "data_ctr_avg = df_ctr.groupby(['groupid','dt']).mean().reset_index()"
   ]
  },
  {
   "cell_type": "code",
   "execution_count": 72,
   "id": "2d3c1e13",
   "metadata": {
    "ExecuteTime": {
     "end_time": "2022-07-13T09:12:59.736490Z",
     "start_time": "2022-07-13T09:12:59.363194Z"
    }
   },
   "outputs": [],
   "source": [
    "df_ctr['month'] = df_ctr['dt'].dt.month\n",
    "df_ctr11 = df_ctr[df_ctr['month']==11]"
   ]
  },
  {
   "cell_type": "code",
   "execution_count": 71,
   "id": "43de4a86",
   "metadata": {
    "ExecuteTime": {
     "end_time": "2022-07-13T09:12:07.460112Z",
     "start_time": "2022-07-13T09:12:07.381269Z"
    }
   },
   "outputs": [
    {
     "data": {
      "text/html": [
       "\n",
       "<div id=\"altair-viz-1bb6e5f1c3ae4877aae1c162d08a45ed\"></div>\n",
       "<script type=\"text/javascript\">\n",
       "  var VEGA_DEBUG = (typeof VEGA_DEBUG == \"undefined\") ? {} : VEGA_DEBUG;\n",
       "  (function(spec, embedOpt){\n",
       "    let outputDiv = document.currentScript.previousElementSibling;\n",
       "    if (outputDiv.id !== \"altair-viz-1bb6e5f1c3ae4877aae1c162d08a45ed\") {\n",
       "      outputDiv = document.getElementById(\"altair-viz-1bb6e5f1c3ae4877aae1c162d08a45ed\");\n",
       "    }\n",
       "    const paths = {\n",
       "      \"vega\": \"https://cdn.jsdelivr.net/npm//vega@5?noext\",\n",
       "      \"vega-lib\": \"https://cdn.jsdelivr.net/npm//vega-lib?noext\",\n",
       "      \"vega-lite\": \"https://cdn.jsdelivr.net/npm//vega-lite@4.17.0?noext\",\n",
       "      \"vega-embed\": \"https://cdn.jsdelivr.net/npm//vega-embed@6?noext\",\n",
       "    };\n",
       "\n",
       "    function maybeLoadScript(lib, version) {\n",
       "      var key = `${lib.replace(\"-\", \"\")}_version`;\n",
       "      return (VEGA_DEBUG[key] == version) ?\n",
       "        Promise.resolve(paths[lib]) :\n",
       "        new Promise(function(resolve, reject) {\n",
       "          var s = document.createElement('script');\n",
       "          document.getElementsByTagName(\"head\")[0].appendChild(s);\n",
       "          s.async = true;\n",
       "          s.onload = () => {\n",
       "            VEGA_DEBUG[key] = version;\n",
       "            return resolve(paths[lib]);\n",
       "          };\n",
       "          s.onerror = () => reject(`Error loading script: ${paths[lib]}`);\n",
       "          s.src = paths[lib];\n",
       "        });\n",
       "    }\n",
       "\n",
       "    function showError(err) {\n",
       "      outputDiv.innerHTML = `<div class=\"error\" style=\"color:red;\">${err}</div>`;\n",
       "      throw err;\n",
       "    }\n",
       "\n",
       "    function displayChart(vegaEmbed) {\n",
       "      vegaEmbed(outputDiv, spec, embedOpt)\n",
       "        .catch(err => showError(`Javascript Error: ${err.message}<br>This usually means there's a typo in your chart specification. See the javascript console for the full traceback.`));\n",
       "    }\n",
       "\n",
       "    if(typeof define === \"function\" && define.amd) {\n",
       "      requirejs.config({paths});\n",
       "      require([\"vega-embed\"], displayChart, err => showError(`Error loading script: ${err.message}`));\n",
       "    } else {\n",
       "      maybeLoadScript(\"vega\", \"5\")\n",
       "        .then(() => maybeLoadScript(\"vega-lite\", \"4.17.0\"))\n",
       "        .then(() => maybeLoadScript(\"vega-embed\", \"6\"))\n",
       "        .catch(showError)\n",
       "        .then(() => displayChart(vegaEmbed));\n",
       "    }\n",
       "  })({\"config\": {\"view\": {\"continuousWidth\": 400, \"continuousHeight\": 300}}, \"data\": {\"name\": \"data-196ee856029eaf4f805b28a4204f191e\"}, \"mark\": {\"type\": \"line\", \"size\": 5}, \"encoding\": {\"color\": {\"field\": \"groupid\", \"type\": \"ordinal\"}, \"tooltip\": [{\"field\": \"ctr\", \"type\": \"quantitative\"}], \"x\": {\"field\": \"dt\", \"type\": \"temporal\"}, \"y\": {\"field\": \"ctr\", \"type\": \"quantitative\"}}, \"height\": 400, \"width\": 600, \"$schema\": \"https://vega.github.io/schema/vega-lite/v4.17.0.json\", \"datasets\": {\"data-196ee856029eaf4f805b28a4204f191e\": [{\"groupid\": 0, \"dt\": \"2021-10-01T00:00:00\", \"ctr\": 32.98062658929386}, {\"groupid\": 0, \"dt\": \"2021-10-02T00:00:00\", \"ctr\": 33.00405627198124}, {\"groupid\": 0, \"dt\": \"2021-10-03T00:00:00\", \"ctr\": 33.002006094793494}, {\"groupid\": 0, \"dt\": \"2021-10-04T00:00:00\", \"ctr\": 32.99036289527316}, {\"groupid\": 0, \"dt\": \"2021-10-05T00:00:00\", \"ctr\": 33.01416699722332}, {\"groupid\": 0, \"dt\": \"2021-10-06T00:00:00\", \"ctr\": 33.02166025432018}, {\"groupid\": 0, \"dt\": \"2021-10-07T00:00:00\", \"ctr\": 32.97636582822886}, {\"groupid\": 0, \"dt\": \"2021-10-08T00:00:00\", \"ctr\": 33.003954548414406}, {\"groupid\": 0, \"dt\": \"2021-10-09T00:00:00\", \"ctr\": 33.02420792401275}, {\"groupid\": 0, \"dt\": \"2021-10-10T00:00:00\", \"ctr\": 33.002929240034035}, {\"groupid\": 0, \"dt\": \"2021-10-11T00:00:00\", \"ctr\": 32.990675817680284}, {\"groupid\": 0, \"dt\": \"2021-10-12T00:00:00\", \"ctr\": 32.982114453891434}, {\"groupid\": 0, \"dt\": \"2021-10-13T00:00:00\", \"ctr\": 33.00414308073562}, {\"groupid\": 0, \"dt\": \"2021-10-14T00:00:00\", \"ctr\": 32.99352795031056}, {\"groupid\": 0, \"dt\": \"2021-10-15T00:00:00\", \"ctr\": 33.01448648294822}, {\"groupid\": 0, \"dt\": \"2021-10-16T00:00:00\", \"ctr\": 32.99120927808183}, {\"groupid\": 0, \"dt\": \"2021-10-17T00:00:00\", \"ctr\": 32.994388204795854}, {\"groupid\": 0, \"dt\": \"2021-10-18T00:00:00\", \"ctr\": 33.001452374704805}, {\"groupid\": 0, \"dt\": \"2021-10-19T00:00:00\", \"ctr\": 33.010430634516105}, {\"groupid\": 0, \"dt\": \"2021-10-20T00:00:00\", \"ctr\": 32.99715316603823}, {\"groupid\": 0, \"dt\": \"2021-10-21T00:00:00\", \"ctr\": 32.99495625688549}, {\"groupid\": 0, \"dt\": \"2021-10-22T00:00:00\", \"ctr\": 33.007837327429016}, {\"groupid\": 0, \"dt\": \"2021-10-23T00:00:00\", \"ctr\": 33.02130354432051}, {\"groupid\": 0, \"dt\": \"2021-10-24T00:00:00\", \"ctr\": 32.96157039711191}, {\"groupid\": 0, \"dt\": \"2021-10-25T00:00:00\", \"ctr\": 32.997385838056154}, {\"groupid\": 0, \"dt\": \"2021-10-26T00:00:00\", \"ctr\": 33.02775523560209}, {\"groupid\": 0, \"dt\": \"2021-10-27T00:00:00\", \"ctr\": 33.008124070120964}, {\"groupid\": 0, \"dt\": \"2021-10-28T00:00:00\", \"ctr\": 33.00568031618504}, {\"groupid\": 0, \"dt\": \"2021-10-29T00:00:00\", \"ctr\": 33.00055146575523}, {\"groupid\": 0, \"dt\": \"2021-10-30T00:00:00\", \"ctr\": 33.000058227019956}, {\"groupid\": 0, \"dt\": \"2021-10-31T00:00:00\", \"ctr\": 33.003953840084165}, {\"groupid\": 0, \"dt\": \"2021-11-01T00:00:00\", \"ctr\": 32.982671211457884}, {\"groupid\": 0, \"dt\": \"2021-11-02T00:00:00\", \"ctr\": 33.01498315027459}, {\"groupid\": 0, \"dt\": \"2021-11-03T00:00:00\", \"ctr\": 33.008268427939434}, {\"groupid\": 0, \"dt\": \"2021-11-04T00:00:00\", \"ctr\": 32.98667892768079}, {\"groupid\": 0, \"dt\": \"2021-11-05T00:00:00\", \"ctr\": 33.00476597070738}, {\"groupid\": 0, \"dt\": \"2021-11-06T00:00:00\", \"ctr\": 32.998322181226946}, {\"groupid\": 0, \"dt\": \"2021-11-07T00:00:00\", \"ctr\": 33.00622760800843}, {\"groupid\": 0, \"dt\": \"2021-11-08T00:00:00\", \"ctr\": 32.99077858427942}, {\"groupid\": 0, \"dt\": \"2021-11-09T00:00:00\", \"ctr\": 33.021024885601456}, {\"groupid\": 0, \"dt\": \"2021-11-10T00:00:00\", \"ctr\": 32.99329080675422}, {\"groupid\": 0, \"dt\": \"2021-11-11T00:00:00\", \"ctr\": 33.00973761296354}, {\"groupid\": 0, \"dt\": \"2021-11-12T00:00:00\", \"ctr\": 32.98669714357778}, {\"groupid\": 0, \"dt\": \"2021-11-13T00:00:00\", \"ctr\": 32.9809378325925}, {\"groupid\": 0, \"dt\": \"2021-11-14T00:00:00\", \"ctr\": 33.0229763986014}, {\"groupid\": 0, \"dt\": \"2021-11-15T00:00:00\", \"ctr\": 32.98153984607745}, {\"groupid\": 0, \"dt\": \"2021-11-16T00:00:00\", \"ctr\": 32.99275716851428}, {\"groupid\": 0, \"dt\": \"2021-11-17T00:00:00\", \"ctr\": 32.98997876990322}, {\"groupid\": 0, \"dt\": \"2021-11-18T00:00:00\", \"ctr\": 32.9980620978322}, {\"groupid\": 0, \"dt\": \"2021-11-19T00:00:00\", \"ctr\": 32.99927657724789}, {\"groupid\": 0, \"dt\": \"2021-11-20T00:00:00\", \"ctr\": 32.98435487880671}, {\"groupid\": 0, \"dt\": \"2021-11-21T00:00:00\", \"ctr\": 33.01392049169609}, {\"groupid\": 0, \"dt\": \"2021-11-22T00:00:00\", \"ctr\": 33.006160978496744}, {\"groupid\": 0, \"dt\": \"2021-11-23T00:00:00\", \"ctr\": 32.99264911825726}, {\"groupid\": 0, \"dt\": \"2021-11-24T00:00:00\", \"ctr\": 32.995949895615865}, {\"groupid\": 0, \"dt\": \"2021-11-25T00:00:00\", \"ctr\": 32.97369649805447}, {\"groupid\": 0, \"dt\": \"2021-11-26T00:00:00\", \"ctr\": 32.98306712202811}, {\"groupid\": 0, \"dt\": \"2021-11-27T00:00:00\", \"ctr\": 32.998942169305245}, {\"groupid\": 0, \"dt\": \"2021-11-28T00:00:00\", \"ctr\": 32.99494667277367}, {\"groupid\": 0, \"dt\": \"2021-11-29T00:00:00\", \"ctr\": 33.00110054701745}, {\"groupid\": 0, \"dt\": \"2021-11-30T00:00:00\", \"ctr\": 32.99472551342812}, {\"groupid\": 1, \"dt\": \"2021-10-01T00:00:00\", \"ctr\": 33.00629862064457}, {\"groupid\": 1, \"dt\": \"2021-10-02T00:00:00\", \"ctr\": 32.97932624343428}, {\"groupid\": 1, \"dt\": \"2021-10-03T00:00:00\", \"ctr\": 32.98813891420388}, {\"groupid\": 1, \"dt\": \"2021-10-04T00:00:00\", \"ctr\": 32.99559591889784}, {\"groupid\": 1, \"dt\": \"2021-10-05T00:00:00\", \"ctr\": 32.994796274738064}, {\"groupid\": 1, \"dt\": \"2021-10-06T00:00:00\", \"ctr\": 33.015461317302666}, {\"groupid\": 1, \"dt\": \"2021-10-07T00:00:00\", \"ctr\": 33.00067752272579}, {\"groupid\": 1, \"dt\": \"2021-10-08T00:00:00\", \"ctr\": 32.99331299612937}, {\"groupid\": 1, \"dt\": \"2021-10-09T00:00:00\", \"ctr\": 32.98615221170562}, {\"groupid\": 1, \"dt\": \"2021-10-10T00:00:00\", \"ctr\": 33.011332331416625}, {\"groupid\": 1, \"dt\": \"2021-10-11T00:00:00\", \"ctr\": 32.98992596475136}, {\"groupid\": 1, \"dt\": \"2021-10-12T00:00:00\", \"ctr\": 33.01009529983793}, {\"groupid\": 1, \"dt\": \"2021-10-13T00:00:00\", \"ctr\": 32.96447332598691}, {\"groupid\": 1, \"dt\": \"2021-10-14T00:00:00\", \"ctr\": 33.006175993774725}, {\"groupid\": 1, \"dt\": \"2021-10-15T00:00:00\", \"ctr\": 33.00258072916667}, {\"groupid\": 1, \"dt\": \"2021-10-16T00:00:00\", \"ctr\": 32.990841796875}, {\"groupid\": 1, \"dt\": \"2021-10-17T00:00:00\", \"ctr\": 33.00950754359611}, {\"groupid\": 1, \"dt\": \"2021-10-18T00:00:00\", \"ctr\": 33.01399029126214}, {\"groupid\": 1, \"dt\": \"2021-10-19T00:00:00\", \"ctr\": 32.99257982203612}, {\"groupid\": 1, \"dt\": \"2021-10-20T00:00:00\", \"ctr\": 33.012096282359046}, {\"groupid\": 1, \"dt\": \"2021-10-21T00:00:00\", \"ctr\": 33.00020230456986}, {\"groupid\": 1, \"dt\": \"2021-10-22T00:00:00\", \"ctr\": 33.00572320431097}, {\"groupid\": 1, \"dt\": \"2021-10-23T00:00:00\", \"ctr\": 33.00335355621531}, {\"groupid\": 1, \"dt\": \"2021-10-24T00:00:00\", \"ctr\": 33.0069234790564}, {\"groupid\": 1, \"dt\": \"2021-10-25T00:00:00\", \"ctr\": 32.98301932525385}, {\"groupid\": 1, \"dt\": \"2021-10-26T00:00:00\", \"ctr\": 33.00083999220425}, {\"groupid\": 1, \"dt\": \"2021-10-27T00:00:00\", \"ctr\": 33.005947901591895}, {\"groupid\": 1, \"dt\": \"2021-10-28T00:00:00\", \"ctr\": 33.00574117647059}, {\"groupid\": 1, \"dt\": \"2021-10-29T00:00:00\", \"ctr\": 33.00783867431814}, {\"groupid\": 1, \"dt\": \"2021-10-30T00:00:00\", \"ctr\": 33.03274001173173}, {\"groupid\": 1, \"dt\": \"2021-10-31T00:00:00\", \"ctr\": 32.97118672849585}, {\"groupid\": 1, \"dt\": \"2021-11-01T00:00:00\", \"ctr\": 37.9946186643018}, {\"groupid\": 1, \"dt\": \"2021-11-02T00:00:00\", \"ctr\": 38.01365632148588}, {\"groupid\": 1, \"dt\": \"2021-11-03T00:00:00\", \"ctr\": 37.99556200095543}, {\"groupid\": 1, \"dt\": \"2021-11-04T00:00:00\", \"ctr\": 37.988511634263844}, {\"groupid\": 1, \"dt\": \"2021-11-05T00:00:00\", \"ctr\": 38.00281565312245}, {\"groupid\": 1, \"dt\": \"2021-11-06T00:00:00\", \"ctr\": 38.01312666348188}, {\"groupid\": 1, \"dt\": \"2021-11-07T00:00:00\", \"ctr\": 37.99576243377201}, {\"groupid\": 1, \"dt\": \"2021-11-08T00:00:00\", \"ctr\": 37.99487099750538}, {\"groupid\": 1, \"dt\": \"2021-11-09T00:00:00\", \"ctr\": 38.01321723690501}, {\"groupid\": 1, \"dt\": \"2021-11-10T00:00:00\", \"ctr\": 37.99005896387185}, {\"groupid\": 1, \"dt\": \"2021-11-11T00:00:00\", \"ctr\": 37.994286006337525}, {\"groupid\": 1, \"dt\": \"2021-11-12T00:00:00\", \"ctr\": 37.99615957374138}, {\"groupid\": 1, \"dt\": \"2021-11-13T00:00:00\", \"ctr\": 38.004073074031034}, {\"groupid\": 1, \"dt\": \"2021-11-14T00:00:00\", \"ctr\": 38.002104563126665}, {\"groupid\": 1, \"dt\": \"2021-11-15T00:00:00\", \"ctr\": 37.99379248048539}, {\"groupid\": 1, \"dt\": \"2021-11-16T00:00:00\", \"ctr\": 38.00073617747441}, {\"groupid\": 1, \"dt\": \"2021-11-17T00:00:00\", \"ctr\": 38.01606465046422}, {\"groupid\": 1, \"dt\": \"2021-11-18T00:00:00\", \"ctr\": 38.00059780009565}, {\"groupid\": 1, \"dt\": \"2021-11-19T00:00:00\", \"ctr\": 37.99372593199508}, {\"groupid\": 1, \"dt\": \"2021-11-20T00:00:00\", \"ctr\": 37.99248218486822}, {\"groupid\": 1, \"dt\": \"2021-11-21T00:00:00\", \"ctr\": 37.99136715684602}, {\"groupid\": 1, \"dt\": \"2021-11-22T00:00:00\", \"ctr\": 37.99126989548466}, {\"groupid\": 1, \"dt\": \"2021-11-23T00:00:00\", \"ctr\": 37.99545767918089}, {\"groupid\": 1, \"dt\": \"2021-11-24T00:00:00\", \"ctr\": 37.98753166934135}, {\"groupid\": 1, \"dt\": \"2021-11-25T00:00:00\", \"ctr\": 37.99161564451725}, {\"groupid\": 1, \"dt\": \"2021-11-26T00:00:00\", \"ctr\": 37.99783435143159}, {\"groupid\": 1, \"dt\": \"2021-11-27T00:00:00\", \"ctr\": 37.97891209540034}, {\"groupid\": 1, \"dt\": \"2021-11-28T00:00:00\", \"ctr\": 37.992709322583956}, {\"groupid\": 1, \"dt\": \"2021-11-29T00:00:00\", \"ctr\": 37.987909112636146}, {\"groupid\": 1, \"dt\": \"2021-11-30T00:00:00\", \"ctr\": 37.99798209788305}]}}, {\"mode\": \"vega-lite\"});\n",
       "</script>"
      ],
      "text/plain": [
       "alt.Chart(...)"
      ]
     },
     "execution_count": 71,
     "metadata": {},
     "output_type": "execute_result"
    }
   ],
   "source": [
    "alt.Chart(data_ctr_avg).mark_line(size=5).encode(\n",
    "    alt.X('dt'),\n",
    "    alt.Y('ctr'),\n",
    "    color='groupid:O',\n",
    "    tooltip=['ctr']\n",
    ").properties(\n",
    "    width=600,\n",
    "    height=400\n",
    ")"
   ]
  },
  {
   "cell_type": "code",
   "execution_count": 73,
   "id": "e8cdb7da",
   "metadata": {
    "ExecuteTime": {
     "end_time": "2022-07-13T09:13:22.933361Z",
     "start_time": "2022-07-13T09:13:22.690498Z"
    }
   },
   "outputs": [
    {
     "name": "stdout",
     "output_type": "stream",
     "text": [
      "Experimental Design Date Started :  2021-11-01 00:00:00\n",
      "Experimental Design Date Finished :  2021-11-30 00:00:00\n",
      "The Number of Days Experimental Design Running :  30\n"
     ]
    }
   ],
   "source": [
    "print('Experimental Design Date Started : ', df_ctr11['dt'].min())\n",
    "print('Experimental Design Date Finished : ', df_ctr['dt'].max())\n",
    "print('The Number of Days Experimental Design Running : ', df_ctr['dt'].dt.day.max()-df_ctr11['dt'].dt.day.min())"
   ]
  },
  {
   "cell_type": "code",
   "execution_count": 94,
   "id": "b2feba13",
   "metadata": {
    "ExecuteTime": {
     "end_time": "2022-07-13T09:27:20.407212Z",
     "start_time": "2022-07-13T09:27:19.033736Z"
    }
   },
   "outputs": [
    {
     "data": {
      "text/html": [
       "<div>\n",
       "<style scoped>\n",
       "    .dataframe tbody tr th:only-of-type {\n",
       "        vertical-align: middle;\n",
       "    }\n",
       "\n",
       "    .dataframe tbody tr th {\n",
       "        vertical-align: top;\n",
       "    }\n",
       "\n",
       "    .dataframe thead tr th {\n",
       "        text-align: left;\n",
       "    }\n",
       "\n",
       "    .dataframe thead tr:last-of-type th {\n",
       "        text-align: right;\n",
       "    }\n",
       "</style>\n",
       "<table border=\"1\" class=\"dataframe\">\n",
       "  <thead>\n",
       "    <tr>\n",
       "      <th></th>\n",
       "      <th></th>\n",
       "      <th colspan=\"8\" halign=\"left\">ctr</th>\n",
       "    </tr>\n",
       "    <tr>\n",
       "      <th></th>\n",
       "      <th></th>\n",
       "      <th>count</th>\n",
       "      <th>mean</th>\n",
       "      <th>std</th>\n",
       "      <th>min</th>\n",
       "      <th>25%</th>\n",
       "      <th>50%</th>\n",
       "      <th>75%</th>\n",
       "      <th>max</th>\n",
       "    </tr>\n",
       "    <tr>\n",
       "      <th>groupid</th>\n",
       "      <th>dt</th>\n",
       "      <th></th>\n",
       "      <th></th>\n",
       "      <th></th>\n",
       "      <th></th>\n",
       "      <th></th>\n",
       "      <th></th>\n",
       "      <th></th>\n",
       "      <th></th>\n",
       "    </tr>\n",
       "  </thead>\n",
       "  <tbody>\n",
       "    <tr>\n",
       "      <th rowspan=\"5\" valign=\"top\">0</th>\n",
       "      <th>2021-10-01</th>\n",
       "      <td>15337.0</td>\n",
       "      <td>32.980627</td>\n",
       "      <td>1.735883</td>\n",
       "      <td>30.0</td>\n",
       "      <td>31.45</td>\n",
       "      <td>32.99</td>\n",
       "      <td>34.49</td>\n",
       "      <td>36.0</td>\n",
       "    </tr>\n",
       "    <tr>\n",
       "      <th>2021-10-02</th>\n",
       "      <td>15354.0</td>\n",
       "      <td>33.004056</td>\n",
       "      <td>1.735763</td>\n",
       "      <td>30.0</td>\n",
       "      <td>31.49</td>\n",
       "      <td>33.01</td>\n",
       "      <td>34.50</td>\n",
       "      <td>36.0</td>\n",
       "    </tr>\n",
       "    <tr>\n",
       "      <th>2021-10-03</th>\n",
       "      <td>15423.0</td>\n",
       "      <td>33.002006</td>\n",
       "      <td>1.732401</td>\n",
       "      <td>30.0</td>\n",
       "      <td>31.51</td>\n",
       "      <td>33.00</td>\n",
       "      <td>34.51</td>\n",
       "      <td>36.0</td>\n",
       "    </tr>\n",
       "    <tr>\n",
       "      <th>2021-10-04</th>\n",
       "      <td>15211.0</td>\n",
       "      <td>32.990363</td>\n",
       "      <td>1.742652</td>\n",
       "      <td>30.0</td>\n",
       "      <td>31.48</td>\n",
       "      <td>32.98</td>\n",
       "      <td>34.51</td>\n",
       "      <td>36.0</td>\n",
       "    </tr>\n",
       "    <tr>\n",
       "      <th>2021-10-05</th>\n",
       "      <td>15126.0</td>\n",
       "      <td>33.014167</td>\n",
       "      <td>1.738912</td>\n",
       "      <td>30.0</td>\n",
       "      <td>31.52</td>\n",
       "      <td>33.03</td>\n",
       "      <td>34.52</td>\n",
       "      <td>36.0</td>\n",
       "    </tr>\n",
       "    <tr>\n",
       "      <th>...</th>\n",
       "      <th>...</th>\n",
       "      <td>...</td>\n",
       "      <td>...</td>\n",
       "      <td>...</td>\n",
       "      <td>...</td>\n",
       "      <td>...</td>\n",
       "      <td>...</td>\n",
       "      <td>...</td>\n",
       "      <td>...</td>\n",
       "    </tr>\n",
       "    <tr>\n",
       "      <th rowspan=\"5\" valign=\"top\">1</th>\n",
       "      <th>2021-11-26</th>\n",
       "      <td>29303.0</td>\n",
       "      <td>37.997834</td>\n",
       "      <td>1.732989</td>\n",
       "      <td>35.0</td>\n",
       "      <td>36.50</td>\n",
       "      <td>37.99</td>\n",
       "      <td>39.50</td>\n",
       "      <td>41.0</td>\n",
       "    </tr>\n",
       "    <tr>\n",
       "      <th>2021-11-27</th>\n",
       "      <td>29350.0</td>\n",
       "      <td>37.978912</td>\n",
       "      <td>1.727602</td>\n",
       "      <td>35.0</td>\n",
       "      <td>36.48</td>\n",
       "      <td>37.97</td>\n",
       "      <td>39.47</td>\n",
       "      <td>41.0</td>\n",
       "    </tr>\n",
       "    <tr>\n",
       "      <th>2021-11-28</th>\n",
       "      <td>29273.0</td>\n",
       "      <td>37.992709</td>\n",
       "      <td>1.728559</td>\n",
       "      <td>35.0</td>\n",
       "      <td>36.50</td>\n",
       "      <td>37.98</td>\n",
       "      <td>39.49</td>\n",
       "      <td>41.0</td>\n",
       "    </tr>\n",
       "    <tr>\n",
       "      <th>2021-11-29</th>\n",
       "      <td>29289.0</td>\n",
       "      <td>37.987909</td>\n",
       "      <td>1.731204</td>\n",
       "      <td>35.0</td>\n",
       "      <td>36.49</td>\n",
       "      <td>37.97</td>\n",
       "      <td>39.49</td>\n",
       "      <td>41.0</td>\n",
       "    </tr>\n",
       "    <tr>\n",
       "      <th>2021-11-30</th>\n",
       "      <td>29382.0</td>\n",
       "      <td>37.997982</td>\n",
       "      <td>1.730656</td>\n",
       "      <td>35.0</td>\n",
       "      <td>36.51</td>\n",
       "      <td>37.98</td>\n",
       "      <td>39.50</td>\n",
       "      <td>41.0</td>\n",
       "    </tr>\n",
       "  </tbody>\n",
       "</table>\n",
       "<p>122 rows × 8 columns</p>\n",
       "</div>"
      ],
      "text/plain": [
       "                        ctr                                                  \\\n",
       "                      count       mean       std   min    25%    50%    75%   \n",
       "groupid dt                                                                    \n",
       "0       2021-10-01  15337.0  32.980627  1.735883  30.0  31.45  32.99  34.49   \n",
       "        2021-10-02  15354.0  33.004056  1.735763  30.0  31.49  33.01  34.50   \n",
       "        2021-10-03  15423.0  33.002006  1.732401  30.0  31.51  33.00  34.51   \n",
       "        2021-10-04  15211.0  32.990363  1.742652  30.0  31.48  32.98  34.51   \n",
       "        2021-10-05  15126.0  33.014167  1.738912  30.0  31.52  33.03  34.52   \n",
       "...                     ...        ...       ...   ...    ...    ...    ...   \n",
       "1       2021-11-26  29303.0  37.997834  1.732989  35.0  36.50  37.99  39.50   \n",
       "        2021-11-27  29350.0  37.978912  1.727602  35.0  36.48  37.97  39.47   \n",
       "        2021-11-28  29273.0  37.992709  1.728559  35.0  36.50  37.98  39.49   \n",
       "        2021-11-29  29289.0  37.987909  1.731204  35.0  36.49  37.97  39.49   \n",
       "        2021-11-30  29382.0  37.997982  1.730656  35.0  36.51  37.98  39.50   \n",
       "\n",
       "                          \n",
       "                     max  \n",
       "groupid dt                \n",
       "0       2021-10-01  36.0  \n",
       "        2021-10-02  36.0  \n",
       "        2021-10-03  36.0  \n",
       "        2021-10-04  36.0  \n",
       "        2021-10-05  36.0  \n",
       "...                  ...  \n",
       "1       2021-11-26  41.0  \n",
       "        2021-11-27  41.0  \n",
       "        2021-11-28  41.0  \n",
       "        2021-11-29  41.0  \n",
       "        2021-11-30  41.0  \n",
       "\n",
       "[122 rows x 8 columns]"
      ]
     },
     "execution_count": 94,
     "metadata": {},
     "output_type": "execute_result"
    }
   ],
   "source": [
    "df_ctr.iloc[:,:-1].groupby(['groupid', 'dt']).describe()"
   ]
  },
  {
   "cell_type": "markdown",
   "id": "2e848536",
   "metadata": {},
   "source": [
    "Look at the median, group 0 and group 1 show different ctr significantly (by business perspective)"
   ]
  },
  {
   "cell_type": "markdown",
   "id": "e18b647f",
   "metadata": {},
   "source": [
    "# Experiment : User Activity Level"
   ]
  },
  {
   "cell_type": "markdown",
   "id": "f3e07623",
   "metadata": {},
   "source": [
    "## Define Experiment"
   ]
  },
  {
   "cell_type": "markdown",
   "id": "7c6af31c",
   "metadata": {},
   "source": [
    "**1) What is the name of the experiment?** <br>\n",
    "AB Test New Design for Landing Page Design <br>\n",
    "**2) Define Hypothesis** <br>\n",
    "- H0 : New design won't increase DAU (Daily Active User) \n",
    "- H1 : New design will increase DAU (Daily Active User) <br>\n",
    "\n",
    "**3) Who is the participant?** <br>\n",
    "The user that visit landing page <br>\n",
    "**4) What variables will be tested?** <br>\n",
    " Existing Design & New Design"
   ]
  },
  {
   "cell_type": "markdown",
   "id": "989650e1",
   "metadata": {},
   "source": [
    "## Define Metrics"
   ]
  },
  {
   "cell_type": "markdown",
   "id": "224c1404",
   "metadata": {},
   "source": [
    "Metric : **Daily Active Users**"
   ]
  },
  {
   "cell_type": "markdown",
   "id": "4991c6b3",
   "metadata": {},
   "source": [
    "## Define Sample Size"
   ]
  },
  {
   "cell_type": "markdown",
   "id": "ad876cc6",
   "metadata": {},
   "source": [
    "When we calculate sample size for daily active user, our sample becomes a number of days rather than number of user needed <br>\n",
    "*note : (continuous sample = metric take value on a scale)"
   ]
  },
  {
   "cell_type": "code",
   "execution_count": 12,
   "id": "fa65cca2",
   "metadata": {
    "ExecuteTime": {
     "end_time": "2022-07-13T08:04:42.841200Z",
     "start_time": "2022-07-13T08:04:42.831068Z"
    }
   },
   "outputs": [],
   "source": [
    "def continuos_sample_size(metric, mde, sd, alpha, beta):\n",
    "    # standard normal distribution to determine z-values\n",
    "    snd = stats.norm(0, 1)\n",
    "\n",
    "    Z_beta = snd.ppf(1-beta)\n",
    "    print(Z_beta)\n",
    "\n",
    "    Z_alpha = snd.ppf(1-alpha/2)\n",
    "    print(Z_alpha)\n",
    "\n",
    "    N = (2 * sd**2 * \n",
    "             (Z_beta + Z_alpha)**2\n",
    "             / mde**2)\n",
    "\n",
    "    return print(f'Num of days (minimum) needed : {round(N)}')\n",
    "\n",
    "# MDE = minimum detectable effect\n",
    "# metric = mean of control group user\n",
    "# sd = std"
   ]
  },
  {
   "cell_type": "code",
   "execution_count": 20,
   "id": "36b12747",
   "metadata": {
    "ExecuteTime": {
     "end_time": "2022-07-13T08:06:20.926692Z",
     "start_time": "2022-07-13T08:06:20.915453Z"
    },
    "scrolled": true
   },
   "outputs": [
    {
     "name": "stdout",
     "output_type": "stream",
     "text": [
      "0.8416212335729143\n",
      "1.959963984540054\n",
      "Num of days (minimum) needed : 6\n"
     ]
    }
   ],
   "source": [
    "# we want to set MDE = 150 (0.5% increment from metric)\n",
    "continuos_sample_size(metric=30673, mde=150, sd=91, alpha=0.05, beta=0.2)"
   ]
  },
  {
   "cell_type": "markdown",
   "id": "56d5ce9d",
   "metadata": {},
   "source": [
    "**We need at least 6 days** obvservation for each group. **This is just for the sake of the exercise** and we keep use all the days given (because the available datasets are intended for a/b testing purposes, so when we use all of these datasets, it will not interfere with other users who are not tested)"
   ]
  },
  {
   "cell_type": "markdown",
   "id": "f801678b",
   "metadata": {},
   "source": [
    "## Define Duration"
   ]
  },
  {
   "cell_type": "code",
   "execution_count": 74,
   "id": "c10e79c6",
   "metadata": {
    "ExecuteTime": {
     "end_time": "2022-07-13T09:14:07.062806Z",
     "start_time": "2022-07-13T09:14:06.827299Z"
    },
    "scrolled": true
   },
   "outputs": [
    {
     "name": "stdout",
     "output_type": "stream",
     "text": [
      "Experimental Design Date Started :  2021-11-01 00:00:00\n",
      "Experimental Design Date Finished :  2021-11-30 00:00:00\n",
      "The Number of Days Experimental Design Running :  30\n"
     ]
    }
   ],
   "source": [
    "print('Experimental Design Date Started : ', df_act11['dt'].min())\n",
    "print('Experimental Design Date Finished : ', df_act['dt'].max())\n",
    "print('The Number of Days Experimental Design Running : ', df_ctr['dt'].dt.day.max()-df_act11['dt'].dt.day.min())"
   ]
  },
  {
   "cell_type": "markdown",
   "id": "3ef0e652",
   "metadata": {},
   "source": [
    "We will run this experiment **for 30 days**"
   ]
  },
  {
   "cell_type": "markdown",
   "id": "aab725a5",
   "metadata": {},
   "source": [
    "## Preparing Data"
   ]
  },
  {
   "cell_type": "code",
   "execution_count": 137,
   "id": "93b8fd44",
   "metadata": {
    "ExecuteTime": {
     "end_time": "2022-07-13T09:49:49.971210Z",
     "start_time": "2022-07-13T09:49:49.314416Z"
    }
   },
   "outputs": [
    {
     "data": {
      "text/html": [
       "<div>\n",
       "<style scoped>\n",
       "    .dataframe tbody tr th:only-of-type {\n",
       "        vertical-align: middle;\n",
       "    }\n",
       "\n",
       "    .dataframe tbody tr th {\n",
       "        vertical-align: top;\n",
       "    }\n",
       "\n",
       "    .dataframe thead th {\n",
       "        text-align: right;\n",
       "    }\n",
       "</style>\n",
       "<table border=\"1\" class=\"dataframe\">\n",
       "  <thead>\n",
       "    <tr style=\"text-align: right;\">\n",
       "      <th></th>\n",
       "      <th>dt</th>\n",
       "      <th>groupid</th>\n",
       "      <th>userid</th>\n",
       "      <th>activity_level</th>\n",
       "    </tr>\n",
       "  </thead>\n",
       "  <tbody>\n",
       "    <tr>\n",
       "      <th>0</th>\n",
       "      <td>2021-10-01</td>\n",
       "      <td>0</td>\n",
       "      <td>15337</td>\n",
       "      <td>15337</td>\n",
       "    </tr>\n",
       "    <tr>\n",
       "      <th>1</th>\n",
       "      <td>2021-10-01</td>\n",
       "      <td>1</td>\n",
       "      <td>15297</td>\n",
       "      <td>15297</td>\n",
       "    </tr>\n",
       "    <tr>\n",
       "      <th>2</th>\n",
       "      <td>2021-10-02</td>\n",
       "      <td>0</td>\n",
       "      <td>15354</td>\n",
       "      <td>15354</td>\n",
       "    </tr>\n",
       "    <tr>\n",
       "      <th>3</th>\n",
       "      <td>2021-10-02</td>\n",
       "      <td>1</td>\n",
       "      <td>15421</td>\n",
       "      <td>15421</td>\n",
       "    </tr>\n",
       "    <tr>\n",
       "      <th>4</th>\n",
       "      <td>2021-10-03</td>\n",
       "      <td>0</td>\n",
       "      <td>15423</td>\n",
       "      <td>15423</td>\n",
       "    </tr>\n",
       "  </tbody>\n",
       "</table>\n",
       "</div>"
      ],
      "text/plain": [
       "          dt  groupid  userid  activity_level\n",
       "0 2021-10-01        0   15337           15337\n",
       "1 2021-10-01        1   15297           15297\n",
       "2 2021-10-02        0   15354           15354\n",
       "3 2021-10-02        1   15421           15421\n",
       "4 2021-10-03        0   15423           15423"
      ]
     },
     "execution_count": 137,
     "metadata": {},
     "output_type": "execute_result"
    }
   ],
   "source": [
    "# filter only activity level > 0\n",
    "data_act_count = df_act.query('activity_level > 0').groupby(['dt', 'groupid']).count().reset_index()\n",
    "data_act_count.head()"
   ]
  },
  {
   "cell_type": "code",
   "execution_count": 188,
   "id": "9ffbf757",
   "metadata": {
    "ExecuteTime": {
     "end_time": "2022-07-13T11:09:42.519619Z",
     "start_time": "2022-07-13T11:09:42.497038Z"
    }
   },
   "outputs": [],
   "source": [
    "# Data before experiment\n",
    "before = data_act_count.query('dt < \"2021-11-01\"')\n",
    "\n",
    "# Data during experiment\n",
    "after = data_act_count.query('dt >= \"2021-11-01\"')"
   ]
  },
  {
   "cell_type": "markdown",
   "id": "f1ea0870",
   "metadata": {},
   "source": [
    "## Pre Test Before Experiment"
   ]
  },
  {
   "cell_type": "code",
   "execution_count": 189,
   "id": "3b523ccd",
   "metadata": {
    "ExecuteTime": {
     "end_time": "2022-07-13T11:09:43.969960Z",
     "start_time": "2022-07-13T11:09:43.948203Z"
    }
   },
   "outputs": [
    {
     "name": "stdout",
     "output_type": "stream",
     "text": [
      "Mean Daily Active User for Control Group Before Experiment : 15320.870967741936\n",
      "Mean Daily Active User for Test Group Before Experiment : 15352.516129032258\n"
     ]
    }
   ],
   "source": [
    "print(f'Mean Daily Active User for Control Group Before Experiment :', np.mean(before.query('groupid == 0')['userid'].to_numpy()))\n",
    "print(f'Mean Daily Active User for Test Group Before Experiment :', np.mean(before.query('groupid == 1')['userid'].to_numpy()))"
   ]
  },
  {
   "cell_type": "code",
   "execution_count": 190,
   "id": "496bd5dc",
   "metadata": {
    "ExecuteTime": {
     "end_time": "2022-07-13T11:09:44.977760Z",
     "start_time": "2022-07-13T11:09:44.964270Z"
    }
   },
   "outputs": [
    {
     "name": "stdout",
     "output_type": "stream",
     "text": [
      "Pvalue : 0.1630842353828083\n"
     ]
    }
   ],
   "source": [
    "from scipy.stats import ttest_ind\n",
    "\n",
    "res = ttest_ind(before.query('groupid == 0')['userid'].to_numpy(), before.query('groupid == 1')['userid']\n",
    "                .to_numpy()).pvalue\n",
    "\n",
    "print('Pvalue :', res)"
   ]
  },
  {
   "cell_type": "markdown",
   "id": "ec40237e",
   "metadata": {},
   "source": [
    "P-values is very high, it indicates that the number between the group not exactly the same (if the number between 2 group is sampe it means pvalue = 1),such a **high pvalues** shows that there is very likely **no difference** between those two group"
   ]
  },
  {
   "cell_type": "markdown",
   "id": "f2e937c7",
   "metadata": {},
   "source": [
    "## Test Experiment"
   ]
  },
  {
   "cell_type": "code",
   "execution_count": 191,
   "id": "efb63b41",
   "metadata": {
    "ExecuteTime": {
     "end_time": "2022-07-13T11:09:47.034424Z",
     "start_time": "2022-07-13T11:09:47.013626Z"
    }
   },
   "outputs": [
    {
     "name": "stdout",
     "output_type": "stream",
     "text": [
      "Mean Daily Active User for Control Group During Experiment : 15782.0\n",
      "Mean Daily Active User for Test Group During Experiment : 29302.433333333334\n"
     ]
    }
   ],
   "source": [
    "print(f'Mean Daily Active User for Control Group During Experiment :', np.mean(after.query('groupid == 0')['userid'].to_numpy()))\n",
    "print(f'Mean Daily Active User for Test Group During Experiment :', np.mean(after.query('groupid == 1')['userid'].to_numpy()))"
   ]
  },
  {
   "cell_type": "code",
   "execution_count": 192,
   "id": "4659c54c",
   "metadata": {
    "ExecuteTime": {
     "end_time": "2022-07-13T11:09:48.466378Z",
     "start_time": "2022-07-13T11:09:48.452272Z"
    }
   },
   "outputs": [
    {
     "name": "stdout",
     "output_type": "stream",
     "text": [
      "pvalue :  0.0000000000000000000000000000000000000000000000000000000000000000000000000000000000065906035841072442\n",
      "Sufficient Reject H0\n"
     ]
    }
   ],
   "source": [
    "pvalue = ttest_ind(after.query('groupid == 0')['userid'].to_numpy(), after.query('groupid == 1')['userid']\n",
    "                .to_numpy()).pvalue\n",
    "\n",
    "print(f'pvalue :  {\"{:.100f}\".format(pvalue)}')\n",
    "\n",
    "if pvalue >= 0.05:\n",
    "    print('Insufficient Reject H0')\n",
    "else:\n",
    "    print('Sufficient Reject H0')"
   ]
  },
  {
   "cell_type": "markdown",
   "id": "782d8058",
   "metadata": {},
   "source": [
    "Then we will decide that the average difference between daily active user new design and daily active user existing design is very significant. Which means that the **average daily active user new design is higher** than the existing design."
   ]
  },
  {
   "cell_type": "markdown",
   "id": "c576b937",
   "metadata": {},
   "source": [
    "# Experiment : Click Trough Rate"
   ]
  },
  {
   "cell_type": "markdown",
   "id": "29eaeb0c",
   "metadata": {},
   "source": [
    "## Define Experiment"
   ]
  },
  {
   "cell_type": "markdown",
   "id": "ba9bb5cd",
   "metadata": {},
   "source": [
    "**1) What is the name of the experiment?** <br>\n",
    "AB Test New Design for Landing Page Design <br>\n",
    "**2) Define Hypothesis** <br>\n",
    "- H0 : New design won't increase CTR (Click Trough Rate) \n",
    "- H1 : New design will increase CTR (Click Trough Rate) <br>\n",
    "\n",
    "**3) Who is the participant?** <br>\n",
    "The user that visit landing page <br>\n",
    "**4) What variables will be tested?** <br>\n",
    " Existing Design & New Design"
   ]
  },
  {
   "cell_type": "markdown",
   "id": "7e2bae33",
   "metadata": {},
   "source": [
    "## Define Metrics"
   ]
  },
  {
   "cell_type": "markdown",
   "id": "26f6fe07",
   "metadata": {},
   "source": [
    "**Metrics** : Click Trough Rate"
   ]
  },
  {
   "cell_type": "markdown",
   "id": "ad8a1055",
   "metadata": {},
   "source": [
    "## Define Sample Size"
   ]
  },
  {
   "cell_type": "code",
   "execution_count": 157,
   "id": "8ac74cbb",
   "metadata": {
    "ExecuteTime": {
     "end_time": "2022-07-13T10:22:56.300166Z",
     "start_time": "2022-07-13T10:22:56.293308Z"
    }
   },
   "outputs": [],
   "source": [
    "def binomial_sample_size(metric, mde, alpha, beta):\n",
    "    # standard normal distribution to determine z-values\n",
    "    snd = stats.norm(0, 1)\n",
    "\n",
    "    Z_beta = snd.ppf(1-beta)\n",
    "    print('Z_beta :', Z_beta)\n",
    "\n",
    "    Z_alpha = snd.ppf(1-alpha/2)\n",
    "    print('Z_alpha :', Z_alpha)\n",
    "\n",
    "    # average of probabilities from both groups\n",
    "    p = (metric + metric+mde) / 2\n",
    "    print('p :', p)\n",
    "    print('\\n')\n",
    "\n",
    "    N = (2 * p * \n",
    "             (1 - p) * \n",
    "             (0.84 + 1.96)**2\n",
    "             / mde**2)\n",
    "\n",
    "    return print(f'Num of samples (at least) needed : {round(N)}')"
   ]
  },
  {
   "cell_type": "code",
   "execution_count": 165,
   "id": "6942874a",
   "metadata": {
    "ExecuteTime": {
     "end_time": "2022-07-13T10:24:31.716081Z",
     "start_time": "2022-07-13T10:24:31.706747Z"
    }
   },
   "outputs": [
    {
     "name": "stdout",
     "output_type": "stream",
     "text": [
      "Z_beta : 0.8416212335729143\n",
      "Z_alpha : 1.959963984540054\n",
      "p : 0.34\n",
      "\n",
      "\n",
      "Num of samples (at least) needed : 8796\n"
     ]
    }
   ],
   "source": [
    "# we want to set MDE = 0.02 (about 7% increment from metric)\n",
    "binomial_sample_size(0.33, 0.02, 0.05, 0.2)"
   ]
  },
  {
   "cell_type": "markdown",
   "id": "1e2012ac",
   "metadata": {},
   "source": [
    "**We need at least 8796 user samples** obvservation for each group. **This is just for the sake of the exercise** and we keep use all the users given (because the available datasets are intended for a/b testing purposes, so when we use all of these datasets, it will not interfere with other users who are not tested)"
   ]
  },
  {
   "cell_type": "markdown",
   "id": "034ee974",
   "metadata": {},
   "source": [
    "## Define Duration"
   ]
  },
  {
   "cell_type": "code",
   "execution_count": 166,
   "id": "2b552fc6",
   "metadata": {
    "ExecuteTime": {
     "end_time": "2022-07-13T10:26:50.367947Z",
     "start_time": "2022-07-13T10:26:50.093689Z"
    }
   },
   "outputs": [
    {
     "name": "stdout",
     "output_type": "stream",
     "text": [
      "Experimental Design Date Started :  2021-11-01 00:00:00\n",
      "Experimental Design Date Finished :  2021-11-30 00:00:00\n",
      "The Number of Days Experimental Design Running :  30\n"
     ]
    }
   ],
   "source": [
    "print('Experimental Design Date Started : ', df_ctr11['dt'].min())\n",
    "print('Experimental Design Date Finished : ', df_ctr['dt'].max())\n",
    "print('The Number of Days Experimental Design Running : ', df_ctr['dt'].dt.day.max()-df_ctr11['dt'].dt.day.min())"
   ]
  },
  {
   "cell_type": "markdown",
   "id": "1b8499cb",
   "metadata": {
    "ExecuteTime": {
     "end_time": "2022-07-13T10:27:08.174366Z",
     "start_time": "2022-07-13T10:27:08.166082Z"
    }
   },
   "source": [
    "We will run this experiment **for 30 days**"
   ]
  },
  {
   "cell_type": "markdown",
   "id": "2402dc29",
   "metadata": {},
   "source": [
    "## Preparing Data"
   ]
  },
  {
   "cell_type": "code",
   "execution_count": 170,
   "id": "38c02e29",
   "metadata": {
    "ExecuteTime": {
     "end_time": "2022-07-13T10:28:14.438149Z",
     "start_time": "2022-07-13T10:28:14.113383Z"
    }
   },
   "outputs": [
    {
     "data": {
      "text/html": [
       "<div>\n",
       "<style scoped>\n",
       "    .dataframe tbody tr th:only-of-type {\n",
       "        vertical-align: middle;\n",
       "    }\n",
       "\n",
       "    .dataframe tbody tr th {\n",
       "        vertical-align: top;\n",
       "    }\n",
       "\n",
       "    .dataframe thead th {\n",
       "        text-align: right;\n",
       "    }\n",
       "</style>\n",
       "<table border=\"1\" class=\"dataframe\">\n",
       "  <thead>\n",
       "    <tr style=\"text-align: right;\">\n",
       "      <th></th>\n",
       "      <th>groupid</th>\n",
       "      <th>dt</th>\n",
       "      <th>ctr</th>\n",
       "      <th>month</th>\n",
       "    </tr>\n",
       "  </thead>\n",
       "  <tbody>\n",
       "    <tr>\n",
       "      <th>0</th>\n",
       "      <td>0</td>\n",
       "      <td>2021-10-01</td>\n",
       "      <td>32.980627</td>\n",
       "      <td>10.0</td>\n",
       "    </tr>\n",
       "    <tr>\n",
       "      <th>1</th>\n",
       "      <td>0</td>\n",
       "      <td>2021-10-02</td>\n",
       "      <td>33.004056</td>\n",
       "      <td>10.0</td>\n",
       "    </tr>\n",
       "    <tr>\n",
       "      <th>2</th>\n",
       "      <td>0</td>\n",
       "      <td>2021-10-03</td>\n",
       "      <td>33.002006</td>\n",
       "      <td>10.0</td>\n",
       "    </tr>\n",
       "    <tr>\n",
       "      <th>3</th>\n",
       "      <td>0</td>\n",
       "      <td>2021-10-04</td>\n",
       "      <td>32.990363</td>\n",
       "      <td>10.0</td>\n",
       "    </tr>\n",
       "    <tr>\n",
       "      <th>4</th>\n",
       "      <td>0</td>\n",
       "      <td>2021-10-05</td>\n",
       "      <td>33.014167</td>\n",
       "      <td>10.0</td>\n",
       "    </tr>\n",
       "  </tbody>\n",
       "</table>\n",
       "</div>"
      ],
      "text/plain": [
       "   groupid         dt        ctr  month\n",
       "0        0 2021-10-01  32.980627   10.0\n",
       "1        0 2021-10-02  33.004056   10.0\n",
       "2        0 2021-10-03  33.002006   10.0\n",
       "3        0 2021-10-04  32.990363   10.0\n",
       "4        0 2021-10-05  33.014167   10.0"
      ]
     },
     "execution_count": 170,
     "metadata": {},
     "output_type": "execute_result"
    }
   ],
   "source": [
    "data_ctr_avg = df_ctr.groupby(['groupid','dt']).mean().reset_index()\n",
    "data_ctr_avg.head()"
   ]
  },
  {
   "cell_type": "code",
   "execution_count": 193,
   "id": "d6c85934",
   "metadata": {
    "ExecuteTime": {
     "end_time": "2022-07-13T11:09:57.345214Z",
     "start_time": "2022-07-13T11:09:56.700006Z"
    }
   },
   "outputs": [],
   "source": [
    "# define before and after experiment data\n",
    "before = df_ctr.query('dt < \"2021-11-01\"')[['groupid', 'ctr']]\n",
    "after = df_ctr.query('dt >= \"2021-11-01\"')[['groupid', 'ctr']]"
   ]
  },
  {
   "cell_type": "markdown",
   "id": "12784e1e",
   "metadata": {},
   "source": [
    "## Pre Test Before Experiment"
   ]
  },
  {
   "cell_type": "code",
   "execution_count": 173,
   "id": "9689c179",
   "metadata": {
    "ExecuteTime": {
     "end_time": "2022-07-13T10:31:13.439863Z",
     "start_time": "2022-07-13T10:31:13.322196Z"
    }
   },
   "outputs": [
    {
     "name": "stdout",
     "output_type": "stream",
     "text": [
      "Mean Click Trough Rate for Control Group Before Experiment : 33.00091277553074\n",
      "Mean Click Trough Rate for Test Group Before Experiment : 32.99957172093258\n"
     ]
    }
   ],
   "source": [
    "print(f'Mean Click Trough Rate for Control Group Before Experiment :', before.query('groupid == 0')['ctr'].to_numpy().mean())\n",
    "print(f'Mean Click Trough Rate for Test Group Before Experiment :', before.query('groupid == 1')['ctr'].to_numpy().mean())"
   ]
  },
  {
   "cell_type": "code",
   "execution_count": 174,
   "id": "c7daee11",
   "metadata": {
    "ExecuteTime": {
     "end_time": "2022-07-13T10:31:52.351752Z",
     "start_time": "2022-07-13T10:31:52.278651Z"
    }
   },
   "outputs": [
    {
     "name": "stdout",
     "output_type": "stream",
     "text": [
      "Std Click Trough Rate for Control Group Before Experiment : 1.7336979501682888\n",
      "Std Click Trough Rate for Test Group Before Experiment : 1.7296548367391134\n"
     ]
    }
   ],
   "source": [
    "print(f'Std Click Trough Rate for Control Group Before Experiment :', before.query('groupid == 0')['ctr'].to_numpy().std())\n",
    "print(f'Std Click Trough Rate for Test Group Before Experiment :', before.query('groupid == 1')['ctr'].to_numpy().std())"
   ]
  },
  {
   "cell_type": "code",
   "execution_count": 179,
   "id": "cebbc01b",
   "metadata": {
    "ExecuteTime": {
     "end_time": "2022-07-13T11:06:05.126926Z",
     "start_time": "2022-07-13T11:06:05.045958Z"
    }
   },
   "outputs": [
    {
     "name": "stdout",
     "output_type": "stream",
     "text": [
      "pvalue : 0.705741417344299\n"
     ]
    }
   ],
   "source": [
    "pvalue = ttest_ind(before.query('groupid == 0')['ctr'].to_numpy(), before.query('groupid == 1')['ctr']\n",
    "                .to_numpy()).pvalue\n",
    "\n",
    "print('pvalue :', pvalue)"
   ]
  },
  {
   "cell_type": "markdown",
   "id": "8e3aadbd",
   "metadata": {},
   "source": [
    "P-values is very high, it indicates that the number between the group not exactly the same (if the number between 2 group is same it means pvalue = 1),such a **high pvalues** shows that there is very likely **no difference** between those two group"
   ]
  },
  {
   "cell_type": "markdown",
   "id": "bd790627",
   "metadata": {},
   "source": [
    "## Test Experiment"
   ]
  },
  {
   "cell_type": "code",
   "execution_count": 175,
   "id": "bcc5ecae",
   "metadata": {
    "ExecuteTime": {
     "end_time": "2022-07-13T11:04:22.243929Z",
     "start_time": "2022-07-13T11:04:22.085771Z"
    }
   },
   "outputs": [
    {
     "name": "stdout",
     "output_type": "stream",
     "text": [
      "Mean Click Trough Rate for Control Group During Experiment : 32.996977569382835\n",
      "Mean Click Trough Rate for Test Group During Experiment : 37.99695912626142\n"
     ]
    }
   ],
   "source": [
    "print(f'Mean Click Trough Rate for Control Group During Experiment :', after.query('groupid == 0')['ctr'].to_numpy().mean())\n",
    "print(f'Mean Click Trough Rate for Test Group During Experiment :', after.query('groupid == 1')['ctr'].to_numpy().mean())"
   ]
  },
  {
   "cell_type": "code",
   "execution_count": 176,
   "id": "4487744f",
   "metadata": {
    "ExecuteTime": {
     "end_time": "2022-07-13T11:05:09.692002Z",
     "start_time": "2022-07-13T11:05:09.596655Z"
    },
    "scrolled": true
   },
   "outputs": [
    {
     "name": "stdout",
     "output_type": "stream",
     "text": [
      "Std Click Trough Rate for Control Group During Experiment : 1.7331985918552912\n",
      "Std Click Trough Rate for Test Group During Experiment : 1.7323710606903675\n"
     ]
    }
   ],
   "source": [
    "print(f'Std Click Trough Rate for Control Group During Experiment :', after.query('groupid == 0')['ctr'].to_numpy().std())\n",
    "print(f'Std Click Trough Rate for Test Group During Experiment :', after.query('groupid == 1')['ctr'].to_numpy().std())"
   ]
  },
  {
   "cell_type": "code",
   "execution_count": 195,
   "id": "ccad3d5a",
   "metadata": {
    "ExecuteTime": {
     "end_time": "2022-07-13T11:10:20.716952Z",
     "start_time": "2022-07-13T11:10:20.599684Z"
    }
   },
   "outputs": [
    {
     "name": "stdout",
     "output_type": "stream",
     "text": [
      "pvalue :  0.0000000000000000000000000000000000000000000000000000000000000000000000000000000000000000000000000000\n",
      "Sufficient Reject H0\n"
     ]
    }
   ],
   "source": [
    "pvalue = ttest_ind(after.query('groupid == 0')['ctr'].to_numpy(), after.query('groupid == 1')['ctr']\n",
    "                .to_numpy()).pvalue\n",
    "\n",
    "print(f'pvalue :  {\"{:.100f}\".format(pvalue)}')\n",
    "\n",
    "if pvalue >= 0.05:\n",
    "    print('Insufficient Reject H0')\n",
    "else:\n",
    "    print('Sufficient Reject H0')"
   ]
  },
  {
   "cell_type": "markdown",
   "id": "0642978a",
   "metadata": {},
   "source": [
    "Then we will decide that the average difference between ctr in new design and ctr in existing design is very significant. Which means that the **ctr in new design is significantly higher** than the existing design."
   ]
  }
 ],
 "metadata": {
  "kernelspec": {
   "display_name": "Python 3 (ipykernel)",
   "language": "python",
   "name": "python3"
  },
  "language_info": {
   "codemirror_mode": {
    "name": "ipython",
    "version": 3
   },
   "file_extension": ".py",
   "mimetype": "text/x-python",
   "name": "python",
   "nbconvert_exporter": "python",
   "pygments_lexer": "ipython3",
   "version": "3.9.7"
  },
  "toc": {
   "base_numbering": 1,
   "nav_menu": {},
   "number_sections": true,
   "sideBar": true,
   "skip_h1_title": false,
   "title_cell": "Table of Contents",
   "title_sidebar": "Contents",
   "toc_cell": false,
   "toc_position": {
    "height": "calc(100% - 180px)",
    "left": "10px",
    "top": "150px",
    "width": "288px"
   },
   "toc_section_display": true,
   "toc_window_display": true
  }
 },
 "nbformat": 4,
 "nbformat_minor": 5
}
